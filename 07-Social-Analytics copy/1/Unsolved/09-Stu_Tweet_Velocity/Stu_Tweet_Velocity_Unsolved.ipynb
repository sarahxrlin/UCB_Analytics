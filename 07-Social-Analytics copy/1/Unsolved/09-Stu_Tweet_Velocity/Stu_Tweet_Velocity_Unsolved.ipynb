{
 "cells": [
  {
   "cell_type": "code",
   "execution_count": null,
   "metadata": {
    "collapsed": true
   },
   "outputs": [],
   "source": [
    "# Dependencies\n",
    "import tweepy\n",
    "import json\n",
    "import numpy as np\n",
    "from datetime import datetime\n",
    "import matplotlib.pyplot as plt\n",
    "from config import consumer_key, consumer_secret, access_token, access_token_secret\n",
    "\n",
    "\n",
    "# Setup Tweepy API Authentication\n",
    "auth = tweepy.OAuthHandler(consumer_key, consumer_secret)\n",
    "auth.set_access_token(access_token, access_token_secret)\n",
    "api = tweepy.API(auth, parser=tweepy.parsers.JSONParser())"
   ]
  },
  {
   "cell_type": "code",
   "execution_count": null,
   "metadata": {},
   "outputs": [],
   "source": [
    "# Target User\n",
    "target_user = \"realdonaldtrump\"\n",
    "\n",
    "# Create array to record all date-times of tweets\n",
    "tweet_times = []\n",
    "\n",
    "# Loop through 500 tweets\n",
    "for x in range(25):\n",
    "    \n",
    "    # Get all tweets from target user\n",
    "    public_tweets = api.user_timeline(target_user, page=x)\n",
    "\n",
    "    # Loop through all tweets\n",
    "    # YOUR CODE HERE\n",
    "\n",
    "# Confirm tweet counts\n",
    "len(tweet_times)"
   ]
  },
  {
   "cell_type": "code",
   "execution_count": null,
   "metadata": {
    "scrolled": false
   },
   "outputs": [],
   "source": [
    "# Convert all tweet times into datetime objects\n",
    "tweet_time_objects = []\n",
    "\n",
    "# Add each datetime object into the array\n",
    "# YOUR CODE HERE\n",
    "\n",
    "    # Preview that datetimes are matching\n",
    "    if x % 100 == 0:\n",
    "        print(tweet_times[x])\n",
    "        print(tweet_datetime)"
   ]
  },
  {
   "cell_type": "code",
   "execution_count": null,
   "metadata": {
    "scrolled": false
   },
   "outputs": [],
   "source": [
    "# Calculate the time between tweets\n",
    "time_in_between = []\n",
    "\n",
    "# Calculate the time in between each tweet, then append the difference to the list\n",
    "# Hint: use a construction like the following: for x in range(len(tweet_time_objects)-1):\n",
    "# Hint: subtract the next item on the list from the current one, at position x\n",
    "# YOUR CODE HERE\n",
    "\n",
    "# Hours Between Tweets\n",
    "print(f\"Avg. Hours Between Tweets: {np.mean(time_in_between)}\")"
   ]
  },
  {
   "cell_type": "code",
   "execution_count": null,
   "metadata": {},
   "outputs": [],
   "source": [
    "time_in_between[:10]"
   ]
  },
  {
   "cell_type": "code",
   "execution_count": null,
   "metadata": {},
   "outputs": [],
   "source": [
    "# Use MatPlotLib to plot the time between Tweets\n",
    "# YOUR CODE HERE"
   ]
  }
 ],
 "metadata": {
  "anaconda-cloud": {},
  "kernelspec": {
   "display_name": "Python 3",
   "language": "python",
   "name": "python3"
  },
  "language_info": {
   "codemirror_mode": {
    "name": "ipython",
    "version": 3
   },
   "file_extension": ".py",
   "mimetype": "text/x-python",
   "name": "python",
   "nbconvert_exporter": "python",
   "pygments_lexer": "ipython3",
   "version": "3.6.1"
  },
  "varInspector": {
   "cols": {
    "lenName": 16,
    "lenType": 16,
    "lenVar": 40
   },
   "kernels_config": {
    "python": {
     "delete_cmd_postfix": "",
     "delete_cmd_prefix": "del ",
     "library": "var_list.py",
     "varRefreshCmd": "print(var_dic_list())"
    },
    "r": {
     "delete_cmd_postfix": ") ",
     "delete_cmd_prefix": "rm(",
     "library": "var_list.r",
     "varRefreshCmd": "cat(var_dic_list()) "
    }
   },
   "types_to_exclude": [
    "module",
    "function",
    "builtin_function_or_method",
    "instance",
    "_Feature"
   ],
   "window_display": false
  }
 },
 "nbformat": 4,
 "nbformat_minor": 1
}
