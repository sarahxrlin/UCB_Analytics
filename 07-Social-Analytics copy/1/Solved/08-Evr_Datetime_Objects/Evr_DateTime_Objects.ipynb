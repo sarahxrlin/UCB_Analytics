{
 "cells": [
  {
   "cell_type": "code",
   "execution_count": 6,
   "metadata": {},
   "outputs": [],
   "source": [
    "# New Dependency\n",
    "from datetime import datetime"
   ]
  },
  {
   "cell_type": "code",
   "execution_count": 7,
   "metadata": {},
   "outputs": [],
   "source": [
    "# Dependencies\n",
    "import tweepy\n",
    "import json\n",
    "import numpy as np\n",
    "import matplotlib.pyplot as plt\n",
    "from config import consumer_key, consumer_secret, access_token, access_token_secret\n",
    "\n",
    "# Setup Tweepy API Authentication\n",
    "auth = tweepy.OAuthHandler(consumer_key, consumer_secret)\n",
    "auth.set_access_token(access_token, access_token_secret)\n",
    "api = tweepy.API(auth, parser=tweepy.parsers.JSONParser())"
   ]
  },
  {
   "cell_type": "code",
   "execution_count": 8,
   "metadata": {},
   "outputs": [
    {
     "name": "stdout",
     "output_type": "stream",
     "text": [
      "Tue Feb 27 15:49:13 +0000 2018\n",
      "Tue Feb 27 15:37:28 +0000 2018\n",
      "Tue Feb 27 02:45:06 +0000 2018\n",
      "Mon Feb 26 18:13:21 +0000 2018\n",
      "Mon Feb 26 00:05:02 +0000 2018\n",
      "Sun Feb 25 21:10:52 +0000 2018\n",
      "Sat Feb 24 22:04:15 +0000 2018\n",
      "Sat Feb 24 01:30:29 +0000 2018\n",
      "Thu Feb 22 16:33:40 +0000 2018\n",
      "Wed Feb 21 23:26:37 +0000 2018\n",
      "Tue Feb 20 20:24:26 +0000 2018\n",
      "Tue Feb 20 03:44:15 +0000 2018\n",
      "Sun Feb 18 04:15:48 +0000 2018\n",
      "Thu Feb 15 19:54:36 +0000 2018\n",
      "Mon Feb 12 19:37:59 +0000 2018\n",
      "Mon Feb 12 19:14:15 +0000 2018\n",
      "Mon Feb 12 13:35:14 +0000 2018\n",
      "Mon Feb 12 04:30:55 +0000 2018\n",
      "Sat Feb 10 14:41:47 +0000 2018\n",
      "Sat Feb 10 13:53:17 +0000 2018\n"
     ]
    }
   ],
   "source": [
    "# Target User\n",
    "target_user = 'sethmeyers'\n",
    "\n",
    "# Get all tweets from home feed\n",
    "public_tweets = api.user_timeline(target_user)\n",
    "\n",
    "# A list to hold tweet timestamps\n",
    "tweet_times = []\n",
    "\n",
    "# Loop through all tweets\n",
    "for tweet in public_tweets:\n",
    "    raw_time = tweet[\"created_at\"]\n",
    "    print(raw_time)\n",
    "    tweet_times.append(raw_time)"
   ]
  },
  {
   "cell_type": "markdown",
   "metadata": {},
   "source": [
    "[datetime documentation](https://docs.python.org/3/library/datetime.html#strftime-and-strptime-behavior)\n",
    "\n",
    "[strftime / strptime doc](http://strftime.org/)\n",
    "* strftime(format) method, to create a string representing the time under the control of an explicit format string\n",
    "* datetime.strptime() class method creates a datetime object from a string representing a date and time and a corresponding format string\n",
    "\n",
    "\n",
    "\n",
    "```\n",
    "%a\tWeekday as locale’s abbreviated name.\n",
    "%b\tMonth as locale’s abbreviated name.\n",
    "%d\tDay of the month as a zero-padded decimal number.\n",
    "%z\tUTC offset in the form +HHMM or -HHMM\n",
    "%Y\tYear with century as a decimal number.\n",
    "```"
   ]
  },
  {
   "cell_type": "code",
   "execution_count": 9,
   "metadata": {},
   "outputs": [],
   "source": [
    "# Convert tweet timestamps to datetime objects that can be manipulated by\n",
    "# Python\n",
    "converted_timestamps = []\n",
    "for raw_time in tweet_times:\n",
    "    converted_time = datetime.strptime(raw_time, \"%a %b %d %H:%M:%S %z %Y\")\n",
    "    converted_timestamps.append(converted_time)"
   ]
  },
  {
   "cell_type": "code",
   "execution_count": 10,
   "metadata": {},
   "outputs": [
    {
     "name": "stdout",
     "output_type": "stream",
     "text": [
      "Tue Feb 27 15:49:13 +0000 2018\n",
      "Tue Feb 27 15:37:28 +0000 2018\n"
     ]
    }
   ],
   "source": [
    "print(tweet_times[0])\n",
    "print(tweet_times[1])"
   ]
  },
  {
   "cell_type": "code",
   "execution_count": 11,
   "metadata": {},
   "outputs": [
    {
     "name": "stdout",
     "output_type": "stream",
     "text": [
      "2018-02-27 15:49:13+00:00\n",
      "2018-02-27 15:37:28+00:00\n"
     ]
    }
   ],
   "source": [
    "print(converted_timestamps[0])\n",
    "print(converted_timestamps[1])"
   ]
  },
  {
   "cell_type": "code",
   "execution_count": 12,
   "metadata": {},
   "outputs": [
    {
     "name": "stdout",
     "output_type": "stream",
     "text": [
      "Time difference:  0:11:45\n",
      "seconds: 705\n"
     ]
    }
   ],
   "source": [
    "diff = converted_timestamps[0] - converted_timestamps[1]\n",
    "print(\"Time difference: \", diff)\n",
    "print('seconds: {}'.format(diff.seconds))"
   ]
  },
  {
   "cell_type": "code",
   "execution_count": 13,
   "metadata": {},
   "outputs": [
    {
     "name": "stdout",
     "output_type": "stream",
     "text": [
      "length of converted timestamps list: 20\n",
      "Avg. Hours Between Tweets: 10.206959064327487\n"
     ]
    }
   ],
   "source": [
    "converted_length = len(converted_timestamps)\n",
    "print(f\"length of converted timestamps list: {converted_length}\")\n",
    "\n",
    "time_diffs = []\n",
    "\n",
    "for x in range(converted_length - 1):\n",
    "    time_diff = converted_timestamps[x] - converted_timestamps[x + 1]\n",
    "#     print(f'time diff: {time_diff}')\n",
    "#     print(f'time diff (in seconds): {time_diff.seconds}')\n",
    "#     print(f'time diff (in minutes): {time_diff.seconds / 60}')\n",
    "#     print(f'time diff (in hours): {time_diff.seconds / 3600}')\n",
    "\n",
    "    # convert time_diff to hours\n",
    "    time_diff = time_diff.seconds / 3600\n",
    "    time_diffs.append(time_diff)\n",
    "\n",
    "print(f\"Avg. Hours Between Tweets: {np.mean(time_diffs)}\")"
   ]
  },
  {
   "cell_type": "code",
   "execution_count": null,
   "metadata": {},
   "outputs": [],
   "source": []
  }
 ],
 "metadata": {
  "kernelspec": {
   "display_name": "PythonData",
   "language": "python",
   "name": "pythondata"
  },
  "language_info": {
   "codemirror_mode": {
    "name": "ipython",
    "version": 3
   },
   "file_extension": ".py",
   "mimetype": "text/x-python",
   "name": "python",
   "nbconvert_exporter": "python",
   "pygments_lexer": "ipython3",
   "version": "3.6.4"
  },
  "varInspector": {
   "cols": {
    "lenName": 16,
    "lenType": 16,
    "lenVar": 40
   },
   "kernels_config": {
    "python": {
     "delete_cmd_postfix": "",
     "delete_cmd_prefix": "del ",
     "library": "var_list.py",
     "varRefreshCmd": "print(var_dic_list())"
    },
    "r": {
     "delete_cmd_postfix": ") ",
     "delete_cmd_prefix": "rm(",
     "library": "var_list.r",
     "varRefreshCmd": "cat(var_dic_list()) "
    }
   },
   "types_to_exclude": [
    "module",
    "function",
    "builtin_function_or_method",
    "instance",
    "_Feature"
   ],
   "window_display": false
  }
 },
 "nbformat": 4,
 "nbformat_minor": 2
}
