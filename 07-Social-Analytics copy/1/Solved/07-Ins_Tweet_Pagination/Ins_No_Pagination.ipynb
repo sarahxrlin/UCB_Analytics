{
 "cells": [
  {
   "cell_type": "code",
   "execution_count": 1,
   "metadata": {
    "collapsed": true
   },
   "outputs": [],
   "source": [
    "# Dependencies\n",
    "import tweepy\n",
    "import json\n",
    "from config import consumer_key, consumer_secret, access_token, access_token_secret\n",
    "\n",
    "# Setup Tweepy API Authentication\n",
    "auth = tweepy.OAuthHandler(consumer_key, consumer_secret)\n",
    "auth.set_access_token(access_token, access_token_secret)\n",
    "api = tweepy.API(auth, parser=tweepy.parsers.JSONParser())"
   ]
  },
  {
   "cell_type": "code",
   "execution_count": 2,
   "metadata": {},
   "outputs": [
    {
     "name": "stdout",
     "output_type": "stream",
     "text": [
      "I got my start holding community meetings in Chicago, so it was fun to be home for one tonight. Michelle and I want… https://t.co/1ammpZayJx\n",
      "Young people have helped lead all our great movements. How inspiring to see it again in so many smart, fearless stu… https://t.co/wXO3wBtJ8V\n",
      "Billy Graham was a humble servant who prayed for so many - and who, with wisdom and grace, gave hope and guidance t… https://t.co/V8WtgIRPEB\n",
      "We are grieving with Parkland. But we are not powerless. Caring for our kids is our first job. And until we can hon… https://t.co/LWGSkzRapH\n",
      "Happy Valentine’s Day, @MichelleObama. You make every day and every place better. https://t.co/aWvyytR7Mm\n",
      "RT @MichelleObama: Happy #ValentinesDay to my one and only, @BarackObama. To celebrate the occasion, I’m dedicating a little Valentine’s Da…\n",
      "Dr. King was 26 when the Montgomery bus boycott began. He started small, rallying others who believed their efforts… https://t.co/N0zwBg7gTi\n",
      "All across America people chose to get involved, get engaged and stand up. Each of us can make a difference, and al… https://t.co/zxpKVnNeHZ\n",
      "Ten-year-old Jahkil Jackson is on a mission to help homeless people in Chicago. He created kits full of socks, toil… https://t.co/7mNk6dmnyC\n",
      "Chris Long gave his paychecks from the first six games of the NFL season to fund scholarships in Charlottesville, V… https://t.co/KxUk5Wle6h\n",
      "Kat Creech, a wedding planner in Houston, turned a postponed wedding into a volunteer opportunity for Hurricane Har… https://t.co/MCXiSuAVJN\n",
      "As we count down to the new year, we get to reflect and prepare for what’s ahead. For all the bad news that seemed… https://t.co/WaUHkVww2g\n",
      "RT @MBK_Alliance: I am my Brother’s Keeper. \n",
      "Watch our new PSA with @BarackObama, @StephenCurry30 &amp; @chancetherapper, then take action to s…\n",
      "On behalf of the Obama family, Merry Christmas! We wish you joy and peace this holiday season. https://t.co/CNFUZrhrBj\n",
      "There's no better time than the holiday season to reach out and give back to our communities. Great to hear from yo… https://t.co/gp5dCy9oN2\n",
      "Happy Hanukkah, everybody, from the Obama family to yours. Chag Sameach!\n",
      "Just got off a call to thank folks who are working hard to help more Americans across the country sign up for healt… https://t.co/A9QvCySWJ8\n",
      "RT @ObamaFoundation: Watch: We hosted a Town Hall in New Delhi with @BarackObama and young leaders about how to drive change and make an im…\n",
      "Michelle and I are delighted to congratulate Prince Harry and Meghan Markle on their engagement. We wish you a life… https://t.co/KC9nmjZPuX\n",
      "From the Obama family to yours, we wish you a Happy Thanksgiving full of joy and gratitude. https://t.co/xAvSQwjQkz\n"
     ]
    }
   ],
   "source": [
    "# Target User\n",
    "#target_user = \"GuardianData\"\n",
    "#target_user = \"StephenAtHome\"\n",
    "#target_user = \"sethmeyers\"\n",
    "target_user = \"BarackObama\"\n",
    "#target_user = \"HillaryClinton\"\n",
    "\n",
    "# Tweet Texts\n",
    "tweet_texts = []\n",
    "\n",
    "# Get all tweets from home feed\n",
    "public_tweets = api.user_timeline(target_user)\n",
    "\n",
    "# Loop through all tweets\n",
    "for tweet in public_tweets:\n",
    "\n",
    "    # Print Tweet\n",
    "    print(tweet[\"text\"])\n",
    "\n",
    "    # Store Tweet in Array\n",
    "    tweet_texts.append(tweet[\"text\"])"
   ]
  },
  {
   "cell_type": "code",
   "execution_count": 3,
   "metadata": {},
   "outputs": [
    {
     "name": "stdout",
     "output_type": "stream",
     "text": [
      "Tweet Count: 20\n"
     ]
    }
   ],
   "source": [
    "# Print the Tweet Count\n",
    "print(f\"Tweet Count: {len(tweet_texts)}\")"
   ]
  },
  {
   "cell_type": "code",
   "execution_count": null,
   "metadata": {
    "collapsed": true
   },
   "outputs": [],
   "source": []
  }
 ],
 "metadata": {
  "kernelspec": {
   "display_name": "Python [PythonData]",
   "language": "python",
   "name": "pythondata"
  },
  "language_info": {
   "codemirror_mode": {
    "name": "ipython",
    "version": 3
   },
   "file_extension": ".py",
   "mimetype": "text/x-python",
   "name": "python",
   "nbconvert_exporter": "python",
   "pygments_lexer": "ipython3",
   "version": "3.6.4"
  },
  "varInspector": {
   "cols": {
    "lenName": 16,
    "lenType": 16,
    "lenVar": 40
   },
   "kernels_config": {
    "python": {
     "delete_cmd_postfix": "",
     "delete_cmd_prefix": "del ",
     "library": "var_list.py",
     "varRefreshCmd": "print(var_dic_list())"
    },
    "r": {
     "delete_cmd_postfix": ") ",
     "delete_cmd_prefix": "rm(",
     "library": "var_list.r",
     "varRefreshCmd": "cat(var_dic_list()) "
    }
   },
   "types_to_exclude": [
    "module",
    "function",
    "builtin_function_or_method",
    "instance",
    "_Feature"
   ],
   "window_display": false
  }
 },
 "nbformat": 4,
 "nbformat_minor": 2
}
