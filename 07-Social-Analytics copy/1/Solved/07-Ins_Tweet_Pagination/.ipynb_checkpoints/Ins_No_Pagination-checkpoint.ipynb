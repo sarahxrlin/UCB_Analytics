{
 "cells": [
  {
   "cell_type": "code",
   "execution_count": 1,
   "metadata": {
    "collapsed": true
   },
   "outputs": [],
   "source": [
    "# Dependencies\n",
    "import tweepy\n",
    "import json\n",
    "from config import consumer_key, consumer_secret, access_token, access_token_secret\n",
    "\n",
    "# Setup Tweepy API Authentication\n",
    "auth = tweepy.OAuthHandler(consumer_key, consumer_secret)\n",
    "auth.set_access_token(access_token, access_token_secret)\n",
    "api = tweepy.API(auth, parser=tweepy.parsers.JSONParser())"
   ]
  },
  {
   "cell_type": "code",
   "execution_count": 6,
   "metadata": {},
   "outputs": [
    {
     "name": "stdout",
     "output_type": "stream",
     "text": [
      "I say this as a former Secretary of State and as an American: the Russians are still coming. Our intelligence profe… https://t.co/g5aLoXCLvS\n",
      "I’m so excited! 🤗 https://t.co/i5BrQ05ki7\n",
      "RT @JaclynCorin: PLEASE PRE-REGISTER TO VOTE IF YOUR STATE ALLOWS! TO MY GENERATION: WE MUST VOTE OUT THE PEOPLE WHO VALUE DOLLARS OVER LIV…\n",
      "We should all care about how social media platforms play a part in our democratic process. Because unless it’s addr… https://t.co/SQ76nJRTMZ\n",
      "Women’s rights are human rights. That was a radical idea back in 1995. It shouldn’t still be two decades later.\n",
      "https://t.co/BYZR7nI8Qh\n",
      "Parkland students, you have shown so much courage in standing up for truth, for your right to attend school safely,… https://t.co/Afrp5drp5T\n",
      "Another terrific organization Onward Together is working with to make change! https://t.co/EXMHLwBsXa\n",
      "Want to hear the real story of the @ClintonFdn? Read this: https://t.co/30urSAvhnm\n",
      "RT @JoshuaChavers: Here’s the speech from Marjory Stoneman Douglas High School student Emma Gonzalez at an anti-gun rally happening today i…\n",
      "Mass shootings are not inevitable. The majority of Americans support common sense gun reform. Though we feel angry,… https://t.co/ALsnIBH0PH\n",
      "And to this young woman. Every day that we refuse to act, we are failing them. \n",
      "https://t.co/IfkkP76DbX\n",
      "We owe it to this young man who lost classmates: \n",
      "https://t.co/unKn0eK0i2\n",
      "Now is the time to listen to the students, teachers, and parents demanding that we end this carnage once and for al… https://t.co/weVVak12t2\n",
      "This week we lost 17 Americans in Parkland - the deadliest school shooting since Sandy Hook in 2012. Since then, 43… https://t.co/nACvErE6jW\n",
      "RT @GregHale1: 41 years ago @HillaryClinton helped found @AACF to help children and families have the resources and opportunities to live b…\n",
      "RT @GiffordsCourage: Read @GabbyGiffords' statement about today's school shooting in Parkland, Florida: https://t.co/78PglvHbTO\n",
      "Love this! https://t.co/8wMSuoQa34\n",
      "Tune in today at 2:30pm ET/11:30am PT! https://t.co/rnrRfjlsAI\n",
      "A new book is out today that picks up where I left off in What Happened in explaining “Those Damn Emails.” Terrific… https://t.co/gWO6S0OXuO\n",
      "25 years ago, @billclinton signed the Family and Medical Leave Act, which remains a success all these years later.… https://t.co/hYGHBixDNB\n"
     ]
    }
   ],
   "source": [
    "# Target User\n",
    "#target_user = \"GuardianData\"\n",
    "#target_user = \"StephenAtHome\"\n",
    "#target_user = \"sethmeyers\"\n",
    "#target_user = \"BarackObama\"\n",
    "target_user = \"HillaryClinton\"\n",
    "\n",
    "# Tweet Texts\n",
    "tweet_texts = []\n",
    "\n",
    "# Get all tweets from home feed\n",
    "public_tweets = api.user_timeline(target_user)\n",
    "\n",
    "# Loop through all tweets\n",
    "for tweet in public_tweets:\n",
    "\n",
    "    # Print Tweet\n",
    "    print(tweet[\"text\"])\n",
    "\n",
    "    # Store Tweet in Array\n",
    "    tweet_texts.append(tweet[\"text\"])"
   ]
  },
  {
   "cell_type": "code",
   "execution_count": 7,
   "metadata": {},
   "outputs": [
    {
     "name": "stdout",
     "output_type": "stream",
     "text": [
      "Tweet Count: 20\n"
     ]
    }
   ],
   "source": [
    "# Print the Tweet Count\n",
    "print(f\"Tweet Count: {len(tweet_texts)}\")"
   ]
  },
  {
   "cell_type": "code",
   "execution_count": null,
   "metadata": {
    "collapsed": true
   },
   "outputs": [],
   "source": []
  }
 ],
 "metadata": {
  "kernelspec": {
   "display_name": "Python [PythonData]",
   "language": "python",
   "name": "pythondata"
  },
  "language_info": {
   "codemirror_mode": {
    "name": "ipython",
    "version": 3
   },
   "file_extension": ".py",
   "mimetype": "text/x-python",
   "name": "python",
   "nbconvert_exporter": "python",
   "pygments_lexer": "ipython3",
   "version": "3.6.4"
  },
  "varInspector": {
   "cols": {
    "lenName": 16,
    "lenType": 16,
    "lenVar": 40
   },
   "kernels_config": {
    "python": {
     "delete_cmd_postfix": "",
     "delete_cmd_prefix": "del ",
     "library": "var_list.py",
     "varRefreshCmd": "print(var_dic_list())"
    },
    "r": {
     "delete_cmd_postfix": ") ",
     "delete_cmd_prefix": "rm(",
     "library": "var_list.r",
     "varRefreshCmd": "cat(var_dic_list()) "
    }
   },
   "types_to_exclude": [
    "module",
    "function",
    "builtin_function_or_method",
    "instance",
    "_Feature"
   ],
   "window_display": false
  }
 },
 "nbformat": 4,
 "nbformat_minor": 2
}
