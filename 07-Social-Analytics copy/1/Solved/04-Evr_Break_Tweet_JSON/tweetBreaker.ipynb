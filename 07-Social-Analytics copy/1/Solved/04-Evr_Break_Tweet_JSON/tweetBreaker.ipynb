{
 "cells": [
  {
   "cell_type": "code",
   "execution_count": 2,
   "metadata": {},
   "outputs": [
    {
     "name": "stdout",
     "output_type": "stream",
     "text": [
      "{\n",
      "    \"contributors\": null,\n",
      "    \"coordinates\": null,\n",
      "    \"created_at\": \"Tue Feb 27 00:11:27 +0000 2018\",\n",
      "    \"entities\": {\n",
      "        \"hashtags\": [],\n",
      "        \"media\": [\n",
      "            {\n",
      "                \"display_url\": \"pic.twitter.com/JKe034PRHP\",\n",
      "                \"expanded_url\": \"https://twitter.com/warriors/status/968277360108888064/photo/1\",\n",
      "                \"id\": 968277353884340224,\n",
      "                \"id_str\": \"968277353884340224\",\n",
      "                \"indices\": [\n",
      "                    2,\n",
      "                    25\n",
      "                ],\n",
      "                \"media_url\": \"http://pbs.twimg.com/media/DXADH4pU0AAuLuD.jpg\",\n",
      "                \"media_url_https\": \"https://pbs.twimg.com/media/DXADH4pU0AAuLuD.jpg\",\n",
      "                \"sizes\": {\n",
      "                    \"large\": {\n",
      "                        \"h\": 1080,\n",
      "                        \"resize\": \"fit\",\n",
      "                        \"w\": 1620\n",
      "                    },\n",
      "                    \"medium\": {\n",
      "                        \"h\": 800,\n",
      "                        \"resize\": \"fit\",\n",
      "                        \"w\": 1200\n",
      "                    },\n",
      "                    \"small\": {\n",
      "                        \"h\": 453,\n",
      "                        \"resize\": \"fit\",\n",
      "                        \"w\": 680\n",
      "                    },\n",
      "                    \"thumb\": {\n",
      "                        \"h\": 150,\n",
      "                        \"resize\": \"crop\",\n",
      "                        \"w\": 150\n",
      "                    }\n",
      "                },\n",
      "                \"type\": \"photo\",\n",
      "                \"url\": \"https://t.co/JKe034PRHP\"\n",
      "            }\n",
      "        ],\n",
      "        \"symbols\": [],\n",
      "        \"urls\": [],\n",
      "        \"user_mentions\": []\n",
      "    },\n",
      "    \"extended_entities\": {\n",
      "        \"media\": [\n",
      "            {\n",
      "                \"display_url\": \"pic.twitter.com/JKe034PRHP\",\n",
      "                \"expanded_url\": \"https://twitter.com/warriors/status/968277360108888064/photo/1\",\n",
      "                \"id\": 968277353884340224,\n",
      "                \"id_str\": \"968277353884340224\",\n",
      "                \"indices\": [\n",
      "                    2,\n",
      "                    25\n",
      "                ],\n",
      "                \"media_url\": \"http://pbs.twimg.com/media/DXADH4pU0AAuLuD.jpg\",\n",
      "                \"media_url_https\": \"https://pbs.twimg.com/media/DXADH4pU0AAuLuD.jpg\",\n",
      "                \"sizes\": {\n",
      "                    \"large\": {\n",
      "                        \"h\": 1080,\n",
      "                        \"resize\": \"fit\",\n",
      "                        \"w\": 1620\n",
      "                    },\n",
      "                    \"medium\": {\n",
      "                        \"h\": 800,\n",
      "                        \"resize\": \"fit\",\n",
      "                        \"w\": 1200\n",
      "                    },\n",
      "                    \"small\": {\n",
      "                        \"h\": 453,\n",
      "                        \"resize\": \"fit\",\n",
      "                        \"w\": 680\n",
      "                    },\n",
      "                    \"thumb\": {\n",
      "                        \"h\": 150,\n",
      "                        \"resize\": \"crop\",\n",
      "                        \"w\": 150\n",
      "                    }\n",
      "                },\n",
      "                \"type\": \"photo\",\n",
      "                \"url\": \"https://t.co/JKe034PRHP\"\n",
      "            }\n",
      "        ]\n",
      "    },\n",
      "    \"favorite_count\": 151,\n",
      "    \"favorited\": false,\n",
      "    \"geo\": null,\n",
      "    \"id\": 968277360108888064,\n",
      "    \"id_str\": \"968277360108888064\",\n",
      "    \"in_reply_to_screen_name\": null,\n",
      "    \"in_reply_to_status_id\": null,\n",
      "    \"in_reply_to_status_id_str\": null,\n",
      "    \"in_reply_to_user_id\": null,\n",
      "    \"in_reply_to_user_id_str\": null,\n",
      "    \"is_quote_status\": false,\n",
      "    \"lang\": \"und\",\n",
      "    \"place\": null,\n",
      "    \"possibly_sensitive\": false,\n",
      "    \"retweet_count\": 29,\n",
      "    \"retweeted\": false,\n",
      "    \"source\": \"<a href=\\\"http://twitter.com/download/iphone\\\" rel=\\\"nofollow\\\">Twitter for iPhone</a>\",\n",
      "    \"text\": \"\\ud83d\\ude01 https://t.co/JKe034PRHP\",\n",
      "    \"truncated\": false,\n",
      "    \"user\": {\n",
      "        \"contributors_enabled\": false,\n",
      "        \"created_at\": \"Tue Mar 24 16:42:22 +0000 2009\",\n",
      "        \"default_profile\": false,\n",
      "        \"default_profile_image\": false,\n",
      "        \"description\": \"\\ud83c\\udfc6\\ud83c\\udfc6\\ud83c\\udfc6\\ud83c\\udfc6\\ud83c\\udfc6 \\u2022 #DubNation \\u2022 #WarriorsGround\",\n",
      "        \"entities\": {\n",
      "            \"description\": {\n",
      "                \"urls\": []\n",
      "            },\n",
      "            \"url\": {\n",
      "                \"urls\": [\n",
      "                    {\n",
      "                        \"display_url\": \"warriors.com\",\n",
      "                        \"expanded_url\": \"http://warriors.com\",\n",
      "                        \"indices\": [\n",
      "                            0,\n",
      "                            23\n",
      "                        ],\n",
      "                        \"url\": \"https://t.co/Z122zHtval\"\n",
      "                    }\n",
      "                ]\n",
      "            }\n",
      "        },\n",
      "        \"favourites_count\": 10470,\n",
      "        \"follow_request_sent\": false,\n",
      "        \"followers_count\": 5546347,\n",
      "        \"following\": false,\n",
      "        \"friends_count\": 989,\n",
      "        \"geo_enabled\": true,\n",
      "        \"has_extended_profile\": false,\n",
      "        \"id\": 26270913,\n",
      "        \"id_str\": \"26270913\",\n",
      "        \"is_translation_enabled\": false,\n",
      "        \"is_translator\": false,\n",
      "        \"lang\": \"en\",\n",
      "        \"listed_count\": 8825,\n",
      "        \"location\": \"Oakland, CA\",\n",
      "        \"name\": \"Golden State Warriors\",\n",
      "        \"notifications\": false,\n",
      "        \"profile_background_color\": \"FFCC33\",\n",
      "        \"profile_background_image_url\": \"http://pbs.twimg.com/profile_background_images/458788447965040640/hNch3If2.jpeg\",\n",
      "        \"profile_background_image_url_https\": \"https://pbs.twimg.com/profile_background_images/458788447965040640/hNch3If2.jpeg\",\n",
      "        \"profile_background_tile\": false,\n",
      "        \"profile_banner_url\": \"https://pbs.twimg.com/profile_banners/26270913/1519535998\",\n",
      "        \"profile_image_url\": \"http://pbs.twimg.com/profile_images/967630137570177025/bv4qlnw8_normal.jpg\",\n",
      "        \"profile_image_url_https\": \"https://pbs.twimg.com/profile_images/967630137570177025/bv4qlnw8_normal.jpg\",\n",
      "        \"profile_link_color\": \"002A5C\",\n",
      "        \"profile_sidebar_border_color\": \"FFFFFF\",\n",
      "        \"profile_sidebar_fill_color\": \"E4E8F1\",\n",
      "        \"profile_text_color\": \"666666\",\n",
      "        \"profile_use_background_image\": true,\n",
      "        \"protected\": false,\n",
      "        \"screen_name\": \"warriors\",\n",
      "        \"statuses_count\": 73180,\n",
      "        \"time_zone\": \"Pacific Time (US & Canada)\",\n",
      "        \"translator_type\": \"regular\",\n",
      "        \"url\": \"https://t.co/Z122zHtval\",\n",
      "        \"utc_offset\": -28800,\n",
      "        \"verified\": true\n",
      "    }\n",
      "}\n",
      "------------------------------------------------------------------\n"
     ]
    }
   ],
   "source": [
    "# Dependencies\n",
    "import json\n",
    "\n",
    "# Read JSONs\n",
    "sample = \"SampleWarriors.json\"\n",
    "\n",
    "# Sample 1 Data\n",
    "with open(sample) as data_file:\n",
    "    sample_data = json.load(data_file)\n",
    "\n",
    "    # Cleaned up JSON\n",
    "    print(json.dumps(sample_data[0],sort_keys=True,indent=4,separators=(',',': ')))\n",
    "    print(\"------------------------------------------------------------------\")\n"
   ]
  },
  {
   "cell_type": "code",
   "execution_count": 18,
   "metadata": {},
   "outputs": [
    {
     "name": "stdout",
     "output_type": "stream",
     "text": [
      "<class 'list'> 20\n"
     ]
    }
   ],
   "source": [
    "print(type(sample_data),len(sample_data))"
   ]
  },
  {
   "cell_type": "code",
   "execution_count": 6,
   "metadata": {},
   "outputs": [
    {
     "name": "stdout",
     "output_type": "stream",
     "text": [
      "User Account: Golden State Warriors\n"
     ]
    }
   ],
   "source": [
    "# Using the Sample_Data provided above, write code to answer each of the\n",
    "# following questions:\n",
    "\n",
    "# Question 1: What user account is the tweets in the Sample associated\n",
    "# with?\n",
    "print(\"User Account: \" + sample_data[0][\"user\"][\"name\"])"
   ]
  },
  {
   "cell_type": "code",
   "execution_count": 7,
   "metadata": {},
   "outputs": [
    {
     "name": "stdout",
     "output_type": "stream",
     "text": [
      "Follower Count: 5546347\n"
     ]
    }
   ],
   "source": [
    "# Question 2: How many followers does this account have associated with it?\n",
    "print((\"Follower Count: %s\") % (sample_data[0][\"user\"][\"followers_count\"]))"
   ]
  },
  {
   "cell_type": "code",
   "execution_count": 8,
   "metadata": {},
   "outputs": [
    {
     "name": "stdout",
     "output_type": "stream",
     "text": [
      "Tweet Count (In Sample): 20\n"
     ]
    }
   ],
   "source": [
    "# Question 3: How many tweets are included in the Sample?\n",
    "print(\"Tweet Count (In Sample): {}\".format(len(sample_data)))"
   ]
  },
  {
   "cell_type": "code",
   "execution_count": 9,
   "metadata": {},
   "outputs": [
    {
     "name": "stdout",
     "output_type": "stream",
     "text": [
      "Tweet Count (Total) 73180\n"
     ]
    }
   ],
   "source": [
    "# Question 4: How many tweets total has this account made?\n",
    "print(f'Tweet Count (Total) {sample_data[0][\"user\"][\"statuses_count\"]}')"
   ]
  },
  {
   "cell_type": "code",
   "execution_count": 10,
   "metadata": {},
   "outputs": [
    {
     "name": "stdout",
     "output_type": "stream",
     "text": [
      "Most Recent Tweet: 😁 https://t.co/JKe034PRHP\n"
     ]
    }
   ],
   "source": [
    "# Question 5: What was the text in the most recent tweet? (Hint: You may\n",
    "# need to look into \"encoding utf-8 in python\")\n",
    "print(\"Most Recent Tweet: %s\" % (sample_data[0][\"text\"]))"
   ]
  },
  {
   "cell_type": "code",
   "execution_count": 11,
   "metadata": {},
   "outputs": [
    {
     "name": "stdout",
     "output_type": "stream",
     "text": [
      "All Tweets:\n",
      "- 😁 https://t.co/JKe034PRHP\n",
      "- Pregame 🏀 https://t.co/UyEgFNy4ve\n",
      "- 😄😄😄 https://t.co/mrHHY9rbNB\n",
      "- 🏀 GSW at NYK\n",
      "⏰ 4:30 PM (PT)\n",
      "📺 @NBCSAuthentic &amp; @NBATV\n",
      "📻 @957thegame\n",
      "📱 https://t.co/ZkjPJj14fy\n",
      "👻 warriors\n",
      "📝… https://t.co/YvR9NDTw4X\n",
      "- Kickstart your week with all the latest on the Dubs as they get ready to take on the Knicks tonight in New York 🏀… https://t.co/Pn5WgBWZ2b\n",
      "- RT @WarriorsPR: Injury update: Jordan Bell (left ankle inflammation) is probable for tonight's game at New York.\n",
      "- Everything you need to know about today's matchup in New York 👇 https://t.co/EJ2xqdoYOY\n",
      "- Good times celebrating #ChineseNewYear on #WarriorsGround the other night. Thanks to @StateFarm for helping to make… https://t.co/sshz49iIB2\n",
      "- Catch all the best defensive highlights from last week thanks to @CyberPolicy_com​! 💪 https://t.co/ZmdbC8X1X1\n",
      "- “JaVale come in, JaVale come in. Move the batons like I told you to.” \n",
      "\n",
      "A look back at @JaValeMcGee &amp;… https://t.co/HbQUY9tWb8\n",
      "- “We came out with a defensive mindset, and we executed.” - @Money23Green on the team’s victory Saturday night.… https://t.co/Zmri8nCgol\n",
      "- IT'S GAME DAY! The Dubs tip off a three-game roadie in New York against the Knicks » https://t.co/EJ2xqdGAdy https://t.co/2DLsTpWdfj\n",
      "- Dubs on the East Coast 🏀 https://t.co/jZwZvsMrGp\n",
      "- RT @WarriorsPR: Injury report for tomorrow's game at New York: Jordan Bell (left ankle inflammation) is questionable; Patrick McCaw (non-di…\n",
      "- \"You know how to get me some popcorn?\" 🍿😂\n",
      "\n",
      "The best of @StephenCurry30 mic'd up at the 2018 #NBAAllStar Game! https://t.co/bR3wtQqPZl\n",
      "- 👀 The BEST of Steph, Klay, Draymond &amp; Kevin in the 2018 #NBAAllStar Game! ⭐ https://t.co/EoUTwv29Su\n",
      "- 👀 @KlayThompson , swords, Chinatown, BMW … enough said! https://t.co/nQ6nfrfdND\n",
      "- The Dubs made 17 3-pointers last night, resulting in $8,500 going toward groups like @VisionToLearn, courtesy of… https://t.co/6WPZ8H6Psw\n",
      "- Dubs got it done tonight👏 Full Recap » https://t.co/BB6Gue06cG\n",
      "- 🗣️Dunk highlights🗣️ https://t.co/MZxkdGSFlS\n"
     ]
    }
   ],
   "source": [
    "# Question 6: What was the text associated with each of the tweets\n",
    "# included in this sample data?\n",
    "print(\"All Tweets:\")\n",
    "for tweet in sample_data:\n",
    "    print(\"- %s\" % (tweet[\"text\"]))"
   ]
  },
  {
   "cell_type": "code",
   "execution_count": 15,
   "metadata": {},
   "outputs": [
    {
     "name": "stdout",
     "output_type": "stream",
     "text": [
      "Most Popular Tweet with 1281 reweets: \"You know how to get me some popcorn?\" 🍿😂\n",
      "\n",
      "The best of @StephenCurry30 mic'd up at the 2018 #NBAAllStar Game! https://t.co/bR3wtQqPZl \n",
      "\n",
      "Number of Retweets: 1281\n"
     ]
    }
   ],
   "source": [
    "# Question 7 (Bonus): Which of the user's tweets was most frequently\n",
    "# retweeted? How many retweets were there?\n",
    "top_tweet = \"\"\n",
    "top_tweet_follower_count = 0\n",
    "for tweet in sample_data:\n",
    "    if(tweet[\"retweet_count\"] > top_tweet_follower_count):\n",
    "        top_tweet = tweet[\"text\"]\n",
    "        top_tweet_follower_count = tweet[\"retweet_count\"]\n",
    "print(\"Most Popular Tweet with %d reweets: %s \" % (top_tweet_follower_count,top_tweet))\n",
    "print(\"\\nNumber of Retweets: %s\" % (top_tweet_follower_count))"
   ]
  },
  {
   "cell_type": "code",
   "execution_count": null,
   "metadata": {
    "collapsed": true
   },
   "outputs": [],
   "source": []
  }
 ],
 "metadata": {
  "kernelspec": {
   "display_name": "Python [PythonData]",
   "language": "python",
   "name": "pythondata"
  },
  "language_info": {
   "codemirror_mode": {
    "name": "ipython",
    "version": 3
   },
   "file_extension": ".py",
   "mimetype": "text/x-python",
   "name": "python",
   "nbconvert_exporter": "python",
   "pygments_lexer": "ipython3",
   "version": "3.6.4"
  }
 },
 "nbformat": 4,
 "nbformat_minor": 2
}
