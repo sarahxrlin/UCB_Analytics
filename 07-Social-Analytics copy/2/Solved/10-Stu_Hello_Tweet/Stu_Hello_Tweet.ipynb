{
 "cells": [
  {
   "cell_type": "code",
   "execution_count": null,
   "metadata": {
    "collapsed": true
   },
   "outputs": [],
   "source": [
    "# Dependencies\n",
    "import tweepy\n",
    "\n",
    "# Twitter API Keys\n",
    "from config import (consumer_key, \n",
    "                    consumer_secret, \n",
    "                    access_token, \n",
    "                    access_token_secret)\n",
    "\n",
    "# Setup Tweepy API Authentication\n",
    "auth = tweepy.OAuthHandler(consumer_key, consumer_secret)\n",
    "auth.set_access_token(access_token, access_token_secret)\n",
    "api = tweepy.API(auth, parser=tweepy.parsers.JSONParser())"
   ]
  },
  {
   "cell_type": "code",
   "execution_count": null,
   "metadata": {
    "collapsed": true
   },
   "outputs": [],
   "source": [
    "# Note: Twitter prevents from tweeting the same status or message multiple\n",
    "# times. Be sure to change the text when testing.\n",
    "\n",
    "# Create two status updates\n",
    "api.update_status(\"Hello There!\")\n",
    "api.update_status(\"It's a great day!\")"
   ]
  },
  {
   "cell_type": "code",
   "execution_count": null,
   "metadata": {
    "collapsed": true
   },
   "outputs": [],
   "source": [
    "# Create a status update with an image\n",
    "api.update_with_media(\"get_money.jpg\", \"Programming skills == \")"
   ]
  },
  {
   "cell_type": "code",
   "execution_count": null,
   "metadata": {
    "collapsed": true
   },
   "outputs": [],
   "source": [
    "# Create a friendship with another user\n",
    "api.create_friendship(screen_name=\"@e7dud7e\", follow=True)"
   ]
  },
  {
   "cell_type": "code",
   "execution_count": null,
   "metadata": {
    "collapsed": true
   },
   "outputs": [],
   "source": [
    "# Send a direct message to another user (Hint: You will need them to\n",
    "# follow your account)\n",
    "api.send_direct_message(user=\"plotbot5\", text=\"hiiiiiii!!!!!!\")"
   ]
  },
  {
   "cell_type": "code",
   "execution_count": null,
   "metadata": {
    "collapsed": true
   },
   "outputs": [],
   "source": [
    "# Bonus: Retweet any tweet from someone else's account (Hint: You will\n",
    "# need to locate a tweet's id)\n",
    "target_user = \"@ddjournalism\"\n",
    "public_tweets = api.user_timeline(target_user)\n",
    "tweet_id = public_tweets[0][\"id\"]\n",
    "api.retweet(tweet_id)"
   ]
  },
  {
   "cell_type": "code",
   "execution_count": null,
   "metadata": {
    "collapsed": true
   },
   "outputs": [],
   "source": [
    "# Bonus: Delete your most recent tweet (Hint: \"Destroy\")\n",
    "my_tweets = api.user_timeline()\n",
    "tweet_id = my_tweets[0][\"id\"]\n",
    "api.destroy_status(tweet_id)"
   ]
  },
  {
   "cell_type": "code",
   "execution_count": null,
   "metadata": {
    "collapsed": true
   },
   "outputs": [],
   "source": [
    "# Bonus: Delete your most recent sent message (Hint: \"Destroy\")\n",
    "my_messages = api.sent_direct_messages()\n",
    "message_id = my_messages[0][\"id\"]\n",
    "api.destroy_direct_message(message_id)"
   ]
  }
 ],
 "metadata": {
  "kernelspec": {
   "display_name": "Python 3",
   "language": "python",
   "name": "python3"
  },
  "language_info": {
   "codemirror_mode": {
    "name": "ipython",
    "version": 3
   },
   "file_extension": ".py",
   "mimetype": "text/x-python",
   "name": "python",
   "nbconvert_exporter": "python",
   "pygments_lexer": "ipython3",
   "version": "3.6.3"
  },
  "varInspector": {
   "cols": {
    "lenName": 16,
    "lenType": 16,
    "lenVar": 40
   },
   "kernels_config": {
    "python": {
     "delete_cmd_postfix": "",
     "delete_cmd_prefix": "del ",
     "library": "var_list.py",
     "varRefreshCmd": "print(var_dic_list())"
    },
    "r": {
     "delete_cmd_postfix": ") ",
     "delete_cmd_prefix": "rm(",
     "library": "var_list.r",
     "varRefreshCmd": "cat(var_dic_list()) "
    }
   },
   "types_to_exclude": [
    "module",
    "function",
    "builtin_function_or_method",
    "instance",
    "_Feature"
   ],
   "window_display": false
  }
 },
 "nbformat": 4,
 "nbformat_minor": 2
}
