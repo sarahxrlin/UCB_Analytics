{
 "cells": [
  {
   "cell_type": "code",
   "execution_count": 1,
   "metadata": {},
   "outputs": [],
   "source": [
    "# Import and Initialize Sentiment Analyzer\n",
    "from vaderSentiment.vaderSentiment import SentimentIntensityAnalyzer\n",
    "analyzer = SentimentIntensityAnalyzer()"
   ]
  },
  {
   "cell_type": "code",
   "execution_count": 2,
   "metadata": {
    "collapsed": true
   },
   "outputs": [],
   "source": [
    "# Sample Strings\n",
    "happy_string = \"I'm so humble, smart, beautiful, and funny!\"\n",
    "# angry_string = (\"Ugh. I am feeling so distraught! \"\n",
    "#                 \"I hate everything. \"\n",
    "#                 \"I am mad at everyone.\")\n",
    "# happy_emoticon_string = \":-) :) :-D  ;-) :-P\"\n",
    "# angry_emoticon_string = \":-( :( D-< :'(\"\n",
    "# funny_slang_string = \"lol rofl haha\"\n",
    "# angry_slang_string = \"Sux meh grr\"\n",
    "\n",
    "# Target String Setting\n",
    "target_string = happy_string"
   ]
  },
  {
   "cell_type": "code",
   "execution_count": 8,
   "metadata": {},
   "outputs": [],
   "source": [
    "txt_d = {'happy': \"I'm so humble, smart, beautiful, and funny!\",\n",
    "         'angry_string': (\"Ugh. I am feeling so distraught!\"\n",
    "                          \"I hate everything.\"\n",
    "                          \"I am mad at everyone.\"\n",
    "                         ),\n",
    "         'happy_emoticon': \":-) :) :-D  ;-) :-P\",\n",
    "         'angry_emoticon': \":-( :( D-< :'(\",\n",
    "         'funny_slang': \"lol rofl haha\",\n",
    "         'angry_slang': \"Sux meh grr\"\n",
    "        }"
   ]
  },
  {
   "cell_type": "code",
   "execution_count": 9,
   "metadata": {},
   "outputs": [
    {
     "name": "stdout",
     "output_type": "stream",
     "text": [
      "happy: I'm so humble, smart, beautiful, and funny!\n",
      "compound 0.8843; positive 0.721; neutral 0.279; negative 0.0\n",
      "\n",
      "angry_string: Ugh. I am feeling so distraught!I hate everything.I am mad at everyone.\n",
      "compound -0.868; positive 0.08; neutral 0.373; negative 0.547\n",
      "\n",
      "happy_emoticon: :-) :) :-D  ;-) :-P\n",
      "compound 0.9269; positive 1.0; neutral 0.0; negative 0.0\n",
      "\n",
      "angry_emoticon: :-( :( D-< :'(\n",
      "compound -0.8225; positive 0.0; neutral 0.104; negative 0.896\n",
      "\n",
      "funny_slang: lol rofl haha\n",
      "compound 0.8591; positive 1.0; neutral 0.0; negative 0.0\n",
      "\n",
      "angry_slang: Sux meh grr\n",
      "compound -0.4215; positive 0.0; neutral 0.208; negative 0.792\n",
      "\n"
     ]
    }
   ],
   "source": [
    "for sen, txt in txt_d.items():\n",
    "    results = analyzer.polarity_scores(txt)\n",
    "    print(f\"{sen}: {txt}\\n\"\n",
    "          f\"compound {results['compound']}; \"\n",
    "          f\"positive {results['pos']}; \"\n",
    "          f\"neutral {results['neu']}; \"\n",
    "          f\"negative {results['neg']}\\n\"\n",
    "         )\n",
    "    "
   ]
  }
 ],
 "metadata": {
  "kernelspec": {
   "display_name": "PythonData",
   "language": "python",
   "name": "pythondata"
  },
  "language_info": {
   "codemirror_mode": {
    "name": "ipython",
    "version": 3
   },
   "file_extension": ".py",
   "mimetype": "text/x-python",
   "name": "python",
   "nbconvert_exporter": "python",
   "pygments_lexer": "ipython3",
   "version": "3.6.4"
  },
  "varInspector": {
   "cols": {
    "lenName": 16,
    "lenType": 16,
    "lenVar": 40
   },
   "kernels_config": {
    "python": {
     "delete_cmd_postfix": "",
     "delete_cmd_prefix": "del ",
     "library": "var_list.py",
     "varRefreshCmd": "print(var_dic_list())"
    },
    "r": {
     "delete_cmd_postfix": ") ",
     "delete_cmd_prefix": "rm(",
     "library": "var_list.r",
     "varRefreshCmd": "cat(var_dic_list()) "
    }
   },
   "types_to_exclude": [
    "module",
    "function",
    "builtin_function_or_method",
    "instance",
    "_Feature"
   ],
   "window_display": false
  }
 },
 "nbformat": 4,
 "nbformat_minor": 2
}
