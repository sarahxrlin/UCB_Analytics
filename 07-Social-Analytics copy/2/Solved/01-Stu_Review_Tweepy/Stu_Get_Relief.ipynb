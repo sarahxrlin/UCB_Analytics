{
 "cells": [
  {
   "cell_type": "code",
   "execution_count": 2,
   "metadata": {},
   "outputs": [],
   "source": [
    "# Dependencies\n",
    "import tweepy\n",
    "import json\n",
    "import os"
   ]
  },
  {
   "cell_type": "code",
   "execution_count": 3,
   "metadata": {},
   "outputs": [],
   "source": [
    "consumer_key = os.environ['twitter_consumer_key']\n",
    "consumer_secret = os.environ['twitter_consumer_secret']\n",
    "access_token = os.environ['twitter_access_token']\n",
    "access_token_secret = os.environ['twitter_access_token_secret']"
   ]
  },
  {
   "cell_type": "code",
   "execution_count": 4,
   "metadata": {},
   "outputs": [],
   "source": [
    "# Setup Tweepy API Authentication\n",
    "auth = tweepy.OAuthHandler(consumer_key, consumer_secret)\n",
    "auth.set_access_token(access_token, access_token_secret)\n",
    "api = tweepy.API(auth, parser=tweepy.parsers.JSONParser())"
   ]
  },
  {
   "cell_type": "code",
   "execution_count": 10,
   "metadata": {},
   "outputs": [
    {
     "name": "stdout",
     "output_type": "stream",
     "text": [
      "Tip 1, tweet id 969708943638454272: Learn How To Manage Daily Stress With This Useful Advice - https://t.co/CpXnMDSBuP\n",
      "Tip 2, tweet id 969515670298923009: Learn How To Manage Daily Stress With This Useful Advice - https://t.co/CpXnMDSBuP\n",
      "Tip 3, tweet id 969358630976811008: Learn How To Manage Daily Stress With This Useful Advice - https://t.co/CpXnMEacmn\n",
      "Tip 4, tweet id 969326928292466688: Learn How To Manage Daily Stress With This Useful Advice - https://t.co/CpXnMDSBuP\n",
      "Tip 5, tweet id 969126103473446912: Learn How To Manage Daily Stress With This Useful Advice - https://t.co/CpXnMDSBuP\n",
      "Tip 6, tweet id 968943400107069441: Learn How To Manage Daily Stress With This Useful Advice - https://t.co/CpXnMDSBuP\n",
      "Tip 7, tweet id 968735031672868864: Learn How To Manage Daily Stress With This Useful Advice - https://t.co/CpXnMDSBuP\n",
      "Tip 8, tweet id 968540244235743232: Learn How To Manage Daily Stress With This Useful Advice - https://t.co/CpXnMDSBuP\n",
      "Tip 9, tweet id 968422467738873856: Learn How To Manage Daily Stress With This Useful Advice - https://t.co/CpXnMEacmn\n",
      "Tip 10, tweet id 968334900230225922: Learn How To Manage Daily Stress With This Useful Advice - https://t.co/CpXnMDSBuP\n",
      "Tip 11, tweet id 968159736712503298: Learn How To Manage Daily Stress With This Useful Advice - https://t.co/CpXnMEacmn\n",
      "Tip 12, tweet id 968135575290236929: Learn How To Manage Daily Stress With This Useful Advice - https://t.co/CpXnMDSBuP\n",
      "Tip 13, tweet id 967949854600200192: Learn How To Manage Daily Stress With This Useful Advice - https://t.co/CpXnMDSBuP\n",
      "Tip 14, tweet id 967758087418515462: Learn How To Manage Daily Stress With This Useful Advice - https://t.co/CpXnMDSBuP\n",
      "Tip 15, tweet id 967575392512020480: Learn How To Manage Daily Stress With This Useful Advice - https://t.co/CpXnMDSBuP\n",
      "Tip 16, tweet id 967549725959274497: Learn How To Manage Daily Stress With This Useful Advice - https://t.co/CpXnMEacmn\n",
      "Tip 17, tweet id 967362485467648001: Learn How To Manage Daily Stress With This Useful Advice - https://t.co/CpXnMDSBuP\n",
      "Tip 18, tweet id 967178267261325313: Learn How To Manage Daily Stress With This Useful Advice - https://t.co/CpXnMDSBuP\n",
      "Tip 19, tweet id 966978954065317889: Learn How To Manage Daily Stress With This Useful Advice - https://t.co/CpXnMDSBuP\n",
      "Tip 20, tweet id 966877795425988614: Learn How To Manage Daily Stress With This Useful Advice - https://t.co/CpXnMEacmn\n",
      "Tip 21, tweet id 966752467919818752: Learn How To Manage Daily Stress With This Useful Advice - https://t.co/CpXnMDSBuP\n",
      "Tip 22, tweet id 966551641158815749: Learn How To Manage Daily Stress With This Useful Advice - https://t.co/CpXnMDSBuP\n",
      "Tip 23, tweet id 966420279562878976: Learn How To Manage Daily Stress With This Useful Advice - https://t.co/CpXnMEacmn\n",
      "Tip 24, tweet id 966368935947001857: Learn How To Manage Daily Stress With This Useful Advice - https://t.co/CpXnMDSBuP\n",
      "Tip 25, tweet id 966172648353992705: Learn How To Manage Daily Stress With This Useful Advice - https://t.co/CpXnMDSBuP\n",
      "Tip 26, tweet id 965985406759133186: Learn How To Manage Daily Stress With This Useful Advice - https://t.co/CpXnMDSBuP\n",
      "Tip 27, tweet id 965793646011351040: Learn How To Manage Daily Stress With This Useful Advice - https://t.co/CpXnMDSBuP\n",
      "Tip 28, tweet id 965612451629760518: Learn How To Manage Daily Stress With This Useful Advice - https://t.co/CpXnMDSBuP\n",
      "Tip 29, tweet id 965428244458680320: Learn How To Manage Daily Stress With This Useful Advice - https://t.co/CpXnMDSBuP\n",
      "Tip 30, tweet id 965247047510130688: Learn How To Manage Daily Stress With This Useful Advice - https://t.co/CpXnMDSBuP\n",
      "Tip 31, tweet id 965062825143128064: Learn How To Manage Daily Stress With This Useful Advice - https://t.co/CpXnMDSBuP\n",
      "Tip 32, tweet id 964858987022835713: Learn How To Manage Daily Stress With This Useful Advice - https://t.co/CpXnMDSBuP\n",
      "Tip 33, tweet id 964658172601491461: Learn How To Manage Daily Stress With This Useful Advice - https://t.co/CpXnMDSBuP\n",
      "Tip 34, tweet id 964454335504580608: Learn How To Manage Daily Stress With This Useful Advice - https://t.co/CpXnMDSBuP\n",
      "Tip 35, tweet id 964371288105009152: Learn How To Manage Daily Stress With This Useful Advice - https://t.co/CpXnMEacmn\n",
      "Tip 36, tweet id 964203668051517440: Learn How To Manage Daily Stress With This Useful Advice - https://t.co/CpXnMDSBuP\n",
      "Tip 37, tweet id 964010393483071489: Learn How To Manage Daily Stress With This Useful Advice - https://t.co/CpXnMDSBuP\n",
      "Tip 38, tweet id 963806551369748480: Learn How To Manage Daily Stress With This Useful Advice - https://t.co/CpXnMDSBuP\n",
      "Tip 39, tweet id 963608755433820162: Learn How To Manage Daily Stress With This Useful Advice - https://t.co/CpXnMDSBuP\n",
      "Tip 40, tweet id 963420008352309249: Learn How To Manage Daily Stress With This Useful Advice - https://t.co/CpXnMDSBuP\n",
      "Tip 41, tweet id 963376213497593856: Learn How To Manage Daily Stress With This Useful Advice - https://t.co/CpXnMEacmn\n",
      "Tip 42, tweet id 963225229370765317: Learn How To Manage Daily Stress With This Useful Advice - https://t.co/CpXnMDSBuP\n",
      "Tip 43, tweet id 963143686019153921: Learn How To Manage Daily Stress With This Useful Advice - https://t.co/CpXnMEacmn\n",
      "Tip 44, tweet id 963018355614593024: Learn How To Manage Daily Stress With This Useful Advice - https://t.co/CpXnMDSBuP\n",
      "Tip 45, tweet id 962831126271352833: Learn How To Manage Daily Stress With This Useful Advice - https://t.co/CpXnMDSBuP\n",
      "Tip 46, tweet id 962645425676267520: Learn How To Manage Daily Stress With This Useful Advice - https://t.co/CpXnMDSBuP\n",
      "Tip 47, tweet id 962462702215094273: Learn How To Manage Daily Stress With This Useful Advice - https://t.co/CpXnMDSBuP\n",
      "Tip 48, tweet id 962273961961775104: Learn How To Manage Daily Stress With This Useful Advice - https://t.co/CpXnMDSBuP\n",
      "Tip 49, tweet id 962079178140143621: Learn How To Manage Daily Stress With This Useful Advice - https://t.co/CpXnMDSBuP\n",
      "Tip 50, tweet id 962026331172044801: Learn How To Manage Daily Stress With This Useful Advice - https://t.co/CpXnMEacmn\n"
     ]
    }
   ],
   "source": [
    "# Target User Account\n",
    "target_user = \"@Stress_tips123\"\n",
    "\n",
    "# Counter\n",
    "counter = 1\n",
    "oldest_tweet = None\n",
    "# Loop through 5 pages of tweets (total 100 tweets)\n",
    "for i in range(5):\n",
    "\n",
    "    # Get all tweets from home feed\n",
    "    public_tweets = api.user_timeline(target_user,\n",
    "                                      count=10,\n",
    "                                      max_id=oldest_tweet)\n",
    "\n",
    "    # Loop through all tweets\n",
    "    for tweet in public_tweets:\n",
    "        # Utilize JSON dumps to generate a pretty-printed json\n",
    "        # print(json.dumps(\n",
    "        #     tweet, sort_keys=True, indent=4, separators=(',', ': ')))\n",
    "\n",
    "        # Print Tweets\n",
    "        print(f'Tip {counter}, tweet id {tweet[\"id_str\"]}: {tweet[\"text\"]}')\n",
    "\n",
    "        # Add to Counter\n",
    "        counter = counter + 1\n",
    "    oldest_tweet = int(tweet['id_str']) - 1"
   ]
  },
  {
   "cell_type": "code",
   "execution_count": null,
   "metadata": {},
   "outputs": [],
   "source": []
  }
 ],
 "metadata": {
  "kernelspec": {
   "display_name": "PythonData",
   "language": "python",
   "name": "pythondata"
  },
  "language_info": {
   "codemirror_mode": {
    "name": "ipython",
    "version": 3
   },
   "file_extension": ".py",
   "mimetype": "text/x-python",
   "name": "python",
   "nbconvert_exporter": "python",
   "pygments_lexer": "ipython3",
   "version": "3.6.4"
  },
  "varInspector": {
   "cols": {
    "lenName": 16,
    "lenType": 16,
    "lenVar": 40
   },
   "kernels_config": {
    "python": {
     "delete_cmd_postfix": "",
     "delete_cmd_prefix": "del ",
     "library": "var_list.py",
     "varRefreshCmd": "print(var_dic_list())"
    },
    "r": {
     "delete_cmd_postfix": ") ",
     "delete_cmd_prefix": "rm(",
     "library": "var_list.r",
     "varRefreshCmd": "cat(var_dic_list()) "
    }
   },
   "types_to_exclude": [
    "module",
    "function",
    "builtin_function_or_method",
    "instance",
    "_Feature"
   ],
   "window_display": false
  }
 },
 "nbformat": 4,
 "nbformat_minor": 2
}
