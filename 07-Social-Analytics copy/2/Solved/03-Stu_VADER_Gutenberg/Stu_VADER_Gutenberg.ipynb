{
 "cells": [
  {
   "cell_type": "code",
   "execution_count": 2,
   "metadata": {},
   "outputs": [],
   "source": [
    "# Import and Initialize Sentiment Analyzer\n",
    "from vaderSentiment.vaderSentiment import SentimentIntensityAnalyzer\n",
    "analyzer = SentimentIntensityAnalyzer()"
   ]
  },
  {
   "cell_type": "code",
   "execution_count": 5,
   "metadata": {},
   "outputs": [
    {
     "name": "stdout",
     "output_type": "stream",
     "text": [
      "[Errno 2] No such file or directory: 'bla bla not a file blorp bleep'\n",
      "<class 'FileNotFoundError'>\n"
     ]
    }
   ],
   "source": [
    "# Placeholder for strings\n",
    "sample1 = \"\"\n",
    "sample2 = \"\"\n",
    "sample3 = \"\"\n",
    "\n",
    "# Open each of the samples\n",
    "try:    \n",
    "    with open(\"Sample1.txt\") as sample:\n",
    "        sample1 = sample.read()\n",
    "\n",
    "    with open(\"Sample2.txt\") as sample:\n",
    "        sample2 = sample.read()\n",
    "\n",
    "    with open(\"Sample3.txt\") as sample:\n",
    "        sample3 = sample.read()\n",
    "    \n",
    "    with open(\"bla bla not a file blorp bleep\") as sample:\n",
    "        sample4 = sample.read()\n",
    "except FileNotFoundError as e:\n",
    "    print(e)\n",
    "    print(type(e))"
   ]
  },
  {
   "cell_type": "code",
   "execution_count": 8,
   "metadata": {},
   "outputs": [
    {
     "name": "stdout",
     "output_type": "stream",
     "text": [
      "sample 0: One morning, when Gregor Samsa woke from troubled dreams, he found himself transformed in his bed into a horrible vermin. He lay on his armour-like back, and if he lifted his head a little he could see his brown belly, slightly domed and divided by arches into stiff sections. The bedding was hardly able to cover it and seemed ready to slide off any moment. His many legs, pitifully thin compared with the size of the rest of him, waved about helplessly as he looked.\n",
      "compound -0.7096; positive 0.056; neutral 0.825; negative 0.119\n",
      "\n",
      "sample 1: When we recognise the virtues, the talent, the beauty of Mother Earth, something is born in us, some kind of connection, love is born.compound 0.9231; positive 0.399; neutral 0.601; negative 0.0\n",
      "\n",
      "sample 2: And you're worried, not because you're headed to meet a houseful of vampires, but because you think those vampires won't approve of you, correct?\n",
      "That's right, I answered immediately, hiding my surprise at his casual use of the word.\n",
      "He shook his head. You're incredible. compound -0.0387; positive 0.099; neutral 0.778; negative 0.123\n",
      "\n"
     ]
    }
   ],
   "source": [
    "# Run Vader Sentiment Analysis on Each of the Samples\n",
    "for i, sample in enumerate((sample1, sample2, sample3)):\n",
    "    # Run Vader Analysis on each Sample\n",
    "    results = analyzer.polarity_scores(sample)\n",
    "    print(f\"sample {i}: {sample}\"\n",
    "          f\"compound {results['compound']}; \"\n",
    "          f\"positive {results['pos']}; \"\n",
    "          f\"neutral {results['neu']}; \"\n",
    "          f\"negative {results['neg']}\\n\")"
   ]
  },
  {
   "cell_type": "code",
   "execution_count": null,
   "metadata": {},
   "outputs": [],
   "source": []
  }
 ],
 "metadata": {
  "kernelspec": {
   "display_name": "PythonData",
   "language": "python",
   "name": "pythondata"
  },
  "language_info": {
   "codemirror_mode": {
    "name": "ipython",
    "version": 3
   },
   "file_extension": ".py",
   "mimetype": "text/x-python",
   "name": "python",
   "nbconvert_exporter": "python",
   "pygments_lexer": "ipython3",
   "version": "3.6.4"
  },
  "varInspector": {
   "cols": {
    "lenName": 16,
    "lenType": 16,
    "lenVar": 40
   },
   "kernels_config": {
    "python": {
     "delete_cmd_postfix": "",
     "delete_cmd_prefix": "del ",
     "library": "var_list.py",
     "varRefreshCmd": "print(var_dic_list())"
    },
    "r": {
     "delete_cmd_postfix": ") ",
     "delete_cmd_prefix": "rm(",
     "library": "var_list.r",
     "varRefreshCmd": "cat(var_dic_list()) "
    }
   },
   "types_to_exclude": [
    "module",
    "function",
    "builtin_function_or_method",
    "instance",
    "_Feature"
   ],
   "window_display": false
  }
 },
 "nbformat": 4,
 "nbformat_minor": 2
}
