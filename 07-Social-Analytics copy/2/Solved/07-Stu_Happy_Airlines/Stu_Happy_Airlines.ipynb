{
 "cells": [
  {
   "cell_type": "code",
   "execution_count": 2,
   "metadata": {
    "collapsed": true
   },
   "outputs": [],
   "source": [
    "# Dependencies\n",
    "import tweepy\n",
    "import numpy as np\n",
    "\n",
    "# Import and Initialize Sentiment Analyzer\n",
    "from vaderSentiment.vaderSentiment import SentimentIntensityAnalyzer\n",
    "analyzer = SentimentIntensityAnalyzer()\n",
    "\n",
    "# Twitter API Keys\n",
    "from config import (consumer_key, \n",
    "                    consumer_secret, \n",
    "                    access_token, \n",
    "                    access_token_secret)\n",
    "\n",
    "# Setup Tweepy API Authentication\n",
    "auth = tweepy.OAuthHandler(consumer_key, consumer_secret)\n",
    "auth.set_access_token(access_token, access_token_secret)\n",
    "api = tweepy.API(auth, parser=tweepy.parsers.JSONParser())"
   ]
  },
  {
   "cell_type": "code",
   "execution_count": 3,
   "metadata": {},
   "outputs": [
    {
     "name": "stdout",
     "output_type": "stream",
     "text": [
      "{'User': '@SouthwestAir', 'Compound': 0.16962222222222223, 'Positive': 0.11299999999999999, 'Neutral': 0.035, 'Negative': 0.852, 'Tweet Count': 9}\n",
      "\n",
      "{'User': '@AmericanAir', 'Compound': -0.10311, 'Positive': 0.0, 'Neutral': 0.0366, 'Negative': 0.9634, 'Tweet Count': 10}\n",
      "\n",
      "{'User': '@SpiritAirlines', 'Compound': 0.12732500000000002, 'Positive': 0.14033333333333334, 'Neutral': 0.10983333333333332, 'Negative': 0.74975, 'Tweet Count': 12}\n",
      "\n",
      "{'User': '@Virginatlantic', 'Compound': 0.25101428571428575, 'Positive': 0.1702857142857143, 'Neutral': 0.07842857142857143, 'Negative': 0.7512857142857143, 'Tweet Count': 7}\n",
      "\n",
      "{'User': '@Delta', 'Compound': 0.10033636363636363, 'Positive': 0.09209090909090908, 'Neutral': 0.03663636363636364, 'Negative': 0.8712727272727272, 'Tweet Count': 11}\n",
      "\n",
      "{'User': '@AlaskaAir', 'Compound': 0.47532307692307696, 'Positive': 0.1877692307692308, 'Neutral': 0.014846153846153846, 'Negative': 0.7973846153846155, 'Tweet Count': 13}\n",
      "\n",
      "{'User': '@KLM', 'Compound': 0.1902, 'Positive': 0.0835, 'Neutral': 0.02383333333333333, 'Negative': 0.8926666666666668, 'Tweet Count': 6}\n",
      "\n"
     ]
    }
   ],
   "source": [
    "# Target Search Term\n",
    "target_terms = (\"@SouthwestAir\", \"@AmericanAir\", \"@SpiritAirlines\",\n",
    "                \"@Virginatlantic\", \"@Delta\", \"@AlaskaAir\", \"@KLM\")\n",
    "\n",
    "# \"Real Person\" Filters\n",
    "min_tweets = 5\n",
    "max_tweets = 10000\n",
    "max_followers = 2500\n",
    "max_following = 2500\n",
    "lang = \"en\"\n",
    "\n",
    "# Array to hold sentiment\n",
    "sentiment_array = []\n",
    "\n",
    "# Loop through all target users\n",
    "for target in target_terms:\n",
    "\n",
    "    # Variable for holding the oldest tweet\n",
    "    oldest_tweet = None\n",
    "\n",
    "    # Variables for holding sentiments\n",
    "    compound_list = []\n",
    "    positive_list = []\n",
    "    negative_list = []\n",
    "    neutral_list = []\n",
    "\n",
    "    # make multiple requests\n",
    "    for x in range(2):\n",
    "\n",
    "        # Run search around each tweet\n",
    "        public_tweets = api.search(\n",
    "            target, count=10, result_type=\"recent\", max_id=oldest_tweet)\n",
    "\n",
    "        # Loop through all tweets\n",
    "        for tweet in public_tweets[\"statuses\"]:\n",
    "\n",
    "            # Use filters to check if user meets conditions\n",
    "            if (tweet[\"user\"][\"followers_count\"] < max_followers\n",
    "                and tweet[\"user\"][\"statuses_count\"] > min_tweets\n",
    "                and tweet[\"user\"][\"statuses_count\"] < max_tweets\n",
    "                and tweet[\"user\"][\"friends_count\"] < max_following\n",
    "                and tweet[\"user\"][\"lang\"] == lang):\n",
    "\n",
    "                # Run Vader Analysis on each tweet\n",
    "                results = analyzer.polarity_scores(tweet[\"text\"])\n",
    "                compound = results[\"compound\"]\n",
    "                pos = results[\"pos\"]\n",
    "                neu = results[\"neu\"]\n",
    "                neg = results[\"neg\"]\n",
    "\n",
    "                # Add each value to the appropriate array\n",
    "                compound_list.append(compound)\n",
    "                positive_list.append(pos)\n",
    "                negative_list.append(neg)\n",
    "                neutral_list.append(neu)\n",
    "                \n",
    "        # Set the new oldest_tweet value\n",
    "        oldest_tweet = int(tweet[\"id_str\"]) - 1\n",
    "\n",
    "    # Store the Average Sentiments\n",
    "    sentiment = {\n",
    "        \"User\": target,\n",
    "        \"Compound\": np.mean(compound_list),\n",
    "        \"Positive\": np.mean(positive_list),\n",
    "        \"Neutral\": np.mean(negative_list),\n",
    "        \"Negative\": np.mean(neutral_list),\n",
    "        \"Tweet Count\": len(compound_list)\n",
    "    }\n",
    "\n",
    "    # Print the Sentiments\n",
    "    print(sentiment)\n",
    "    print()"
   ]
  },
  {
   "cell_type": "code",
   "execution_count": null,
   "metadata": {
    "collapsed": true
   },
   "outputs": [],
   "source": []
  }
 ],
 "metadata": {
  "kernelspec": {
   "display_name": "Python [PythonData]",
   "language": "python",
   "name": "pythondata"
  },
  "language_info": {
   "codemirror_mode": {
    "name": "ipython",
    "version": 3
   },
   "file_extension": ".py",
   "mimetype": "text/x-python",
   "name": "python",
   "nbconvert_exporter": "python",
   "pygments_lexer": "ipython3",
   "version": "3.6.4"
  },
  "varInspector": {
   "cols": {
    "lenName": 16,
    "lenType": 16,
    "lenVar": 40
   },
   "kernels_config": {
    "python": {
     "delete_cmd_postfix": "",
     "delete_cmd_prefix": "del ",
     "library": "var_list.py",
     "varRefreshCmd": "print(var_dic_list())"
    },
    "r": {
     "delete_cmd_postfix": ") ",
     "delete_cmd_prefix": "rm(",
     "library": "var_list.r",
     "varRefreshCmd": "cat(var_dic_list()) "
    }
   },
   "types_to_exclude": [
    "module",
    "function",
    "builtin_function_or_method",
    "instance",
    "_Feature"
   ],
   "window_display": false
  }
 },
 "nbformat": 4,
 "nbformat_minor": 2
}
