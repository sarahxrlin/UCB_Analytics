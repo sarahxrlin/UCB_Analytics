{
 "cells": [
  {
   "cell_type": "code",
   "execution_count": 1,
   "metadata": {},
   "outputs": [],
   "source": [
    "# Dependencies\n",
    "import tweepy\n",
    "import numpy as np\n",
    "\n",
    "# Import and Initialize Sentiment Analyzer\n",
    "from vaderSentiment.vaderSentiment import SentimentIntensityAnalyzer\n",
    "analyzer = SentimentIntensityAnalyzer()\n",
    "\n",
    "# Twitter API Keys\n",
    "from config import (consumer_key, \n",
    "                    consumer_secret, \n",
    "                    access_token, \n",
    "                    access_token_secret)\n",
    "\n",
    "# Setup Tweepy API Authentication\n",
    "auth = tweepy.OAuthHandler(consumer_key, consumer_secret)\n",
    "auth.set_access_token(access_token, access_token_secret)\n",
    "api = tweepy.API(auth, parser=tweepy.parsers.JSONParser())"
   ]
  },
  {
   "cell_type": "code",
   "execution_count": 2,
   "metadata": {},
   "outputs": [
    {
     "name": "stdout",
     "output_type": "stream",
     "text": [
      "silencedhowell\n",
      "RT @elijahdaniel: you’re a taylor swift stan calm down https://t.co/vpYb4KDkoh\n",
      "\n",
      "CalebRozar\n",
      "RT @jakieebates: “Where you from?” \n",
      "\n",
      "“Tennessee”\n",
      "\n",
      "“What part?”\n",
      "\n",
      "“Murfreesboro”\n",
      "\n",
      "“What’s that by?”\n",
      "\n",
      "“Near Smyrna, Brentwood &amp; Franklin”\n",
      "\n",
      "“Hu…\n",
      "\n",
      "ZStoney28\n",
      "RT @FOTPTaylorSwift: Billboard editor @gthot20 has confirmed ‘Delicate’ will be the 4th official single from reputation. It will impact pop…\n",
      "\n",
      "Melphoxx\n",
      "RT @elijahdaniel: you’re a taylor swift stan calm down https://t.co/vpYb4KDkoh\n",
      "\n",
      "NewRosalinde_A\n",
      "RT @charts_lady: Lady Gaga, Beyonce and Taylor Swift are the only Female Artists this Decade that got nominated at Grammy’s for “Album Of T…\n",
      "\n",
      "gaming_graceful\n",
      "I liked a @YouTube video https://t.co/KwQvTEwHyB Taylor Swift is Too White for Buzzfeed\n",
      "\n",
      "_XianMndz\n",
      "RT @iHeartRadio: AHH! It's confirmed and we're so happy. @Camila_Cabello &amp; @charli_xcx will open up @taylorswift13's #reputationStadiumTour…\n",
      "\n",
      "carmelsexxyyyy\n",
      "Dun tayo sa taong kaya kang mahalin kahit alam niyang mas mahal mo si Taylor Swift kesa sa kanya. U da real MVP! 💁🏼❤️\n",
      "\n",
      "PookySoupy\n",
      "Prince William sings with Jon Bon Jovi and Taylor Swift https://t.co/ryanA6G2Db via @YouTube\n",
      "\n",
      "tswiftactivity\n",
      "Taylor Swift in an elevator with Chris Rock and Will Ferrell https://t.co/d3eQBYU6NB\n",
      "\n",
      "heart8voice\n",
      "Taylor Swift - Call It What You Want (Lyric Video) https://t.co/LjbEkNIdZN с помощью @YouTube\n",
      "\n",
      "maddiedobs\n",
      "RT @elijahdaniel: you’re a taylor swift stan calm down https://t.co/vpYb4KDkoh\n",
      "\n",
      "Rbia19772067\n",
      "RT @curIiesrock: harry diz que only angel foi inspirada em um filme, woman foi escrita pelo &gt;&gt;mitch&lt;&lt;, ele meteu um AAAAH NO quando o nick…\n",
      "\n",
      "AnaDomi19\n",
      "@_kidkatie @teeejayjay I would be down , but the old taylor swift is gone :/\n",
      "\n",
      "GetaRayCar\n",
      "RT @ruthless_game17: Here is an example of locals using Taylor Swift's lyrics and not knowing it: https://t.co/fGLxzqYp6k\n",
      "\n",
      "cabellovotes14\n",
      "RT @SuchAChicagoKid: The last time I went to a concert at solider field it was to see Beyoncé on the lemonade tour! The next time I see a c…\n",
      "\n",
      "CokaBabyCrazy\n",
      "RT @jakieebates: “Where you from?” \n",
      "\n",
      "“Tennessee”\n",
      "\n",
      "“What part?”\n",
      "\n",
      "“Murfreesboro”\n",
      "\n",
      "“What’s that by?”\n",
      "\n",
      "“Near Smyrna, Brentwood &amp; Franklin”\n",
      "\n",
      "“Hu…\n",
      "\n",
      "srosas40\n",
      "RT @elijahdaniel: you’re a taylor swift stan calm down https://t.co/vpYb4KDkoh\n",
      "\n",
      "lntoTzuyu\n",
      "RT @alexandergold: CAMILA CABELLO ON TOUR WITH TAYLOR SWIFT IS A MOOD BOARD COME TO LIFE.\n",
      "\n",
      "arinlee95\n",
      "RT @TheSongMsgs: \"Loving him is like trying to change your mind once you're already flying through the free fall\" - Taylor Swift\n",
      "\n",
      "cabellovotes14\n",
      "RT @SuchAChicagoKid: CAMILA CABELLO IS OPENING FOR TAYLOR SWIFT! OMFGGGGGGGG😱😱😱😱😱😱 it’s funny how life can come fun circle REAL QUICK! #Cam…\n",
      "\n",
      "tswiftactivity\n",
      "Taylor Swift posing with a sleeping fan https://t.co/BeIdEfNfmA\n",
      "\n",
      "LouisMartintx\n",
      "RT @ledbettercarly: Whether you like Taylor Swift or not, why does she STILL have to prove her staying power? She's done it time and time a…\n",
      "\n",
      "gaming_graceful\n",
      "I liked a @YouTube video https://t.co/76kh9KeZA3 Leftists Attack Taylor Swift for Enjoying 2017\n",
      "\n"
     ]
    }
   ],
   "source": [
    "# Search for People Tweeting about:\n",
    "search_term = \"Taylor Swift\"\n",
    "\n",
    "# \"Real Person\" Filters\n",
    "min_tweets = 5\n",
    "max_tweets = 10000\n",
    "max_followers = 2500\n",
    "max_following = 2500\n",
    "lang = \"en\"\n",
    "\n",
    "# Array of Eligible Tweets\n",
    "tweet_array = []\n",
    "\n",
    "# Retrieve 100 tweets\n",
    "public_tweets = api.search(search_term, count=100)\n",
    "\n",
    "# Print Tweets\n",
    "for tweet in public_tweets[\"statuses\"]:\n",
    "\n",
    "    # Use filters to check if user meets conditions\n",
    "    if (tweet[\"user\"][\"followers_count\"] < max_followers and\n",
    "        tweet[\"user\"][\"statuses_count\"] > min_tweets and\n",
    "        tweet[\"user\"][\"statuses_count\"] < max_tweets and\n",
    "        tweet[\"user\"][\"friends_count\"] < max_following and\n",
    "        tweet[\"user\"][\"lang\"] == lang):\n",
    "\n",
    "        # If so add the user's tweet to the array (for future use)\n",
    "        tweet_array.append(tweet[\"text\"])\n",
    "\n",
    "        # Print the username\n",
    "        print(tweet[\"user\"][\"screen_name\"])\n",
    "\n",
    "        # Print the tweet text\n",
    "        print(tweet[\"text\"])\n",
    "        print()"
   ]
  },
  {
   "cell_type": "code",
   "execution_count": 3,
   "metadata": {},
   "outputs": [
    {
     "name": "stdout",
     "output_type": "stream",
     "text": [
      "24\n"
     ]
    }
   ],
   "source": [
    "# Print total number of \"Real\" tweets\n",
    "print(len(tweet_array))"
   ]
  },
  {
   "cell_type": "code",
   "execution_count": null,
   "metadata": {},
   "outputs": [],
   "source": []
  }
 ],
 "metadata": {
  "kernelspec": {
   "display_name": "PythonData",
   "language": "python",
   "name": "pythondata"
  },
  "language_info": {
   "codemirror_mode": {
    "name": "ipython",
    "version": 3
   },
   "file_extension": ".py",
   "mimetype": "text/x-python",
   "name": "python",
   "nbconvert_exporter": "python",
   "pygments_lexer": "ipython3",
   "version": "3.6.4"
  },
  "varInspector": {
   "cols": {
    "lenName": 16,
    "lenType": 16,
    "lenVar": 40
   },
   "kernels_config": {
    "python": {
     "delete_cmd_postfix": "",
     "delete_cmd_prefix": "del ",
     "library": "var_list.py",
     "varRefreshCmd": "print(var_dic_list())"
    },
    "r": {
     "delete_cmd_postfix": ") ",
     "delete_cmd_prefix": "rm(",
     "library": "var_list.r",
     "varRefreshCmd": "cat(var_dic_list()) "
    }
   },
   "types_to_exclude": [
    "module",
    "function",
    "builtin_function_or_method",
    "instance",
    "_Feature"
   ],
   "window_display": false
  }
 },
 "nbformat": 4,
 "nbformat_minor": 2
}
