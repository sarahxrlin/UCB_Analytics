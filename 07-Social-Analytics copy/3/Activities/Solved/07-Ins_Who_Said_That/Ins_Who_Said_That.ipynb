{
 "cells": [
  {
   "cell_type": "code",
   "execution_count": 2,
   "metadata": {},
   "outputs": [],
   "source": [
    "# Dependencies\n",
    "import tweepy\n",
    "import os\n",
    "# Twitter API Keys\n",
    "\"\"\"\n",
    "from config import (consumer_key, \n",
    "                    consumer_secret, \n",
    "                    access_token, \n",
    "                    access_token_secret)\n",
    "\"\"\"\n",
    "consumer_key = os.getenv('twitter_consumer_key')\n",
    "consumer_secret = os.getenv('twitter_consumer_secret')\n",
    "access_token = os.getenv('twitter_access_token')\n",
    "access_token_secret = os.getenv('twitter_access_token_secret')\n",
    "\n",
    "# Setup Tweepy API Authentication\n",
    "auth = tweepy.OAuthHandler(consumer_key, consumer_secret)\n",
    "auth.set_access_token(access_token, access_token_secret)\n",
    "api = tweepy.API(auth, parser=tweepy.parsers.JSONParser())"
   ]
  },
  {
   "cell_type": "code",
   "execution_count": 3,
   "metadata": {},
   "outputs": [
    {
     "name": "stdout",
     "output_type": "stream",
     "text": [
      "970521902975410176\n",
      "@jgoode The view from the window seat can't be beat, Jen! Thanks for flying with us and sharing the moment. ^MR\n",
      "Tweet Author:  SouthwestAir\n",
      "\n",
      "970521469250805760\n",
      "Thanks for another great flight @SouthwestAir - #SanDiego is beautiful at night dontcha think? Have a great week!… https://t.co/IKN6Jcriir\n",
      "Tweet Author:  jgoode\n",
      "\n",
      "970521394415992833\n",
      "@jenniferg07 We're sorry for the frustration and disappointment, Jen. We've received your DMs, and we'll follow-up there. ^NG\n",
      "Tweet Author:  SouthwestAir\n",
      "\n",
      "970521109975085056\n",
      "Hey @SouthwestAir ! Stop hurrying people to get on a plane.\n",
      "We know we have a curfew at SNA. We also know it’s not… https://t.co/exKMn8Kk0z\n",
      "Tweet Author:  Olicityibelieve\n",
      "\n",
      "970520883306446850\n",
      "RT @SouthwestAir: @VeronicaRachel_ ^VG https://t.co/hasnYpui97\n",
      "Tweet Author:  VeronicaRachel_\n",
      "\n"
     ]
    }
   ],
   "source": [
    "# Target Term\n",
    "target_term = \"SouthwestAir\"\n",
    "\n",
    "# Search for all tweets\n",
    "public_tweets = api.search(target_term,\n",
    "                           count=5,\n",
    "                           result_type=\"recent\",\n",
    "                           since_id=None)\n",
    "\n",
    "# Loop through all public_tweets\n",
    "for tweet in public_tweets[\"statuses\"]:\n",
    "\n",
    "    # Get ID and Author of most recent tweet\n",
    "    tweet_id = tweet[\"id\"]\n",
    "    tweet_author = tweet[\"user\"][\"screen_name\"]\n",
    "    tweet_text = tweet[\"text\"]\n",
    "\n",
    "    # Print Tweet Text and Tweet Author\n",
    "    print(tweet_id)\n",
    "    print(tweet_text)\n",
    "    print(\"Tweet Author: \", tweet_author)\n",
    "    print()"
   ]
  },
  {
   "cell_type": "code",
   "execution_count": null,
   "metadata": {},
   "outputs": [],
   "source": []
  }
 ],
 "metadata": {
  "kernelspec": {
   "display_name": "PythonData",
   "language": "python",
   "name": "pythondata"
  },
  "language_info": {
   "codemirror_mode": {
    "name": "ipython",
    "version": 3
   },
   "file_extension": ".py",
   "mimetype": "text/x-python",
   "name": "python",
   "nbconvert_exporter": "python",
   "pygments_lexer": "ipython3",
   "version": "3.6.4"
  },
  "varInspector": {
   "cols": {
    "lenName": 16,
    "lenType": 16,
    "lenVar": 40
   },
   "kernels_config": {
    "python": {
     "delete_cmd_postfix": "",
     "delete_cmd_prefix": "del ",
     "library": "var_list.py",
     "varRefreshCmd": "print(var_dic_list())"
    },
    "r": {
     "delete_cmd_postfix": ") ",
     "delete_cmd_prefix": "rm(",
     "library": "var_list.r",
     "varRefreshCmd": "cat(var_dic_list()) "
    }
   },
   "types_to_exclude": [
    "module",
    "function",
    "builtin_function_or_method",
    "instance",
    "_Feature"
   ],
   "window_display": false
  }
 },
 "nbformat": 4,
 "nbformat_minor": 2
}
