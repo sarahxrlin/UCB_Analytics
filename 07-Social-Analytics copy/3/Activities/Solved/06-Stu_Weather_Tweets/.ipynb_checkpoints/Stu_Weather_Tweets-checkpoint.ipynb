{
 "cells": [
  {
   "cell_type": "code",
   "execution_count": 2,
   "metadata": {},
   "outputs": [],
   "source": [
    "# Dependencies\n",
    "import tweepy\n",
    "import time\n",
    "import requests\n",
    "import datetime\n",
    "import os"
   ]
  },
  {
   "cell_type": "code",
   "execution_count": 3,
   "metadata": {},
   "outputs": [],
   "source": [
    "# Twitter API Keys\n",
    "\"\"\"\n",
    "from config import (consumer_key, \n",
    "                    consumer_secret, \n",
    "                    access_token, \n",
    "                    access_token_secret)\n",
    "\"\"\"\n",
    "consumer_key = os.getenv('twitter_consumer_key')\n",
    "consumer_secret = os.getenv('twitter_consumer_secret')\n",
    "access_token = os.getenv('twitter_access_token')\n",
    "access_token_secret = os.getenv('twitter_access_token_secret')\n",
    "openweather_api_key = os.getenv('openweather_api_key')\n",
    "\n",
    "# Setup Tweepy API Authentication\n",
    "auth = tweepy.OAuthHandler(consumer_key, consumer_secret)\n",
    "auth.set_access_token(access_token, access_token_secret)\n",
    "api = tweepy.API(auth, parser=tweepy.parsers.JSONParser())"
   ]
  },
  {
   "cell_type": "markdown",
   "metadata": {},
   "source": [
    "[datetime.strftime](https://docs.python.org/2/library/datetime.html)\n",
    "\n",
    "* %I: Hour (12-hour clock) as a zero-padded decimal number.\n",
    "* %M: Minute as a zero-padded decimal number.\n",
    "* %p: Locale’s equivalent of either AM or PM."
   ]
  },
  {
   "cell_type": "code",
   "execution_count": 5,
   "metadata": {},
   "outputs": [],
   "source": [
    "# Create a function that gets the weather and Tweets it\n",
    "def WeatherTweet(city):\n",
    "    \"\"\"Tweet the weather for San Francisco.\"\"\"\n",
    "    # Construct a Query URL for the OpenWeatherMap\n",
    "    url = \"http://api.openweathermap.org/data/2.5/weather\"\n",
    "    params = {\n",
    "        \"q\": city,\n",
    "        \"units\": \"imperial\",\n",
    "        \"appid\": openweather_api_key\n",
    "    }\n",
    "\n",
    "    # Perform the API call to get the weather\n",
    "    weather_response = requests.get(url, params=params)\n",
    "    print(weather_response.url)\n",
    "    \n",
    "    weather_json = weather_response.json()\n",
    "    print(weather_json)\n",
    "\n",
    "    # Tweet the weather\n",
    "    current_datetime = datetime.datetime.now().strftime(\"%I:%M %p\")\n",
    "    weather = weather_json.get(\"main\").get(\"temp\")\n",
    "    \n",
    "    try:\n",
    "        api.update_status(f\"{city} weather as of \"\n",
    "                          f\"{current_datetime}:\"\n",
    "                          f\"{weather}\")\n",
    "        print(\"Tweeted successfully\")\n",
    "    except Exception as e:# Print success message\n",
    "        print(e)"
   ]
  },
  {
   "cell_type": "code",
   "execution_count": 6,
   "metadata": {},
   "outputs": [
    {
     "name": "stdout",
     "output_type": "stream",
     "text": [
      "http://api.openweathermap.org/data/2.5/weather?q=San+Francisco&units=imperial&appid=a5cecda7cffcfe5309d09728e44b1be9\n",
      "{'coord': {'lon': -122.42, 'lat': 37.78}, 'weather': [{'id': 800, 'main': 'Clear', 'description': 'clear sky', 'icon': '01n'}], 'base': 'stations', 'main': {'temp': 46.02, 'pressure': 1025, 'humidity': 75, 'temp_min': 39.2, 'temp_max': 51.8}, 'visibility': 16093, 'wind': {'speed': 5.82, 'deg': 20}, 'clouds': {'all': 1}, 'dt': 1520224500, 'sys': {'type': 1, 'id': 392, 'message': 0.003, 'country': 'US', 'sunrise': 1520260502, 'sunset': 1520302056}, 'id': 5391959, 'name': 'San Francisco', 'cod': 200}\n",
      "Tweeted successfully\n",
      "http://api.openweathermap.org/data/2.5/weather?q=San+Francisco&units=imperial&appid=a5cecda7cffcfe5309d09728e44b1be9\n",
      "{'coord': {'lon': -122.42, 'lat': 37.78}, 'weather': [{'id': 800, 'main': 'Clear', 'description': 'clear sky', 'icon': '01n'}], 'base': 'stations', 'main': {'temp': 46.81, 'pressure': 1026, 'humidity': 70, 'temp_min': 41, 'temp_max': 51.8}, 'visibility': 16093, 'wind': {'speed': 6.93, 'deg': 290}, 'clouds': {'all': 1}, 'dt': 1520222160, 'sys': {'type': 1, 'id': 478, 'message': 0.0024, 'country': 'US', 'sunrise': 1520260502, 'sunset': 1520302056}, 'id': 5391959, 'name': 'San Francisco', 'cod': 200}\n",
      "Tweeted successfully\n"
     ]
    }
   ],
   "source": [
    "# Set timer to 2x\n",
    "interval = 10 #seconds\n",
    "city = \"San Francisco\"\n",
    "t_end = time.time() + interval * 2\n",
    "while(time.time() < t_end):\n",
    "    WeatherTweet(city)\n",
    "    time.sleep(interval)"
   ]
  },
  {
   "cell_type": "code",
   "execution_count": null,
   "metadata": {},
   "outputs": [],
   "source": []
  }
 ],
 "metadata": {
  "kernelspec": {
   "display_name": "Python [PythonData]",
   "language": "python",
   "name": "pythondata"
  },
  "language_info": {
   "codemirror_mode": {
    "name": "ipython",
    "version": 3
   },
   "file_extension": ".py",
   "mimetype": "text/x-python",
   "name": "python",
   "nbconvert_exporter": "python",
   "pygments_lexer": "ipython3",
   "version": "3.6.4"
  },
  "varInspector": {
   "cols": {
    "lenName": 16,
    "lenType": 16,
    "lenVar": 40
   },
   "kernels_config": {
    "python": {
     "delete_cmd_postfix": "",
     "delete_cmd_prefix": "del ",
     "library": "var_list.py",
     "varRefreshCmd": "print(var_dic_list())"
    },
    "r": {
     "delete_cmd_postfix": ") ",
     "delete_cmd_prefix": "rm(",
     "library": "var_list.r",
     "varRefreshCmd": "cat(var_dic_list()) "
    }
   },
   "types_to_exclude": [
    "module",
    "function",
    "builtin_function_or_method",
    "instance",
    "_Feature"
   ],
   "window_display": false
  }
 },
 "nbformat": 4,
 "nbformat_minor": 2
}
