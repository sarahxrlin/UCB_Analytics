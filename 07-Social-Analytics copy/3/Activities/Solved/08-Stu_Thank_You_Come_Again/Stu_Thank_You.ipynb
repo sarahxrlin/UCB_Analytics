{
 "cells": [
  {
   "cell_type": "code",
   "execution_count": 3,
   "metadata": {},
   "outputs": [],
   "source": [
    "# Dependencies\n",
    "import tweepy\n",
    "import time\n",
    "import os\n",
    "\n",
    "# Twitter API Keys\n",
    "\"\"\"\n",
    "from config import (consumer_key, \n",
    "                    consumer_secret, \n",
    "                    access_token, \n",
    "                    access_token_secret)\n",
    "\"\"\"\n",
    "consumer_key = os.getenv('twitter_consumer_key')\n",
    "consumer_secret = os.getenv('twitter_consumer_secret')\n",
    "access_token = os.getenv('twitter_access_token')\n",
    "access_token_secret = os.getenv('twitter_access_token_secret')\n",
    "openweather_api_key = os.getenv('openweather_api_key')\n",
    "\n",
    "# Setup Tweepy API Authentication\n",
    "auth = tweepy.OAuthHandler(consumer_key, consumer_secret)\n",
    "auth.set_access_token(access_token, access_token_secret)\n",
    "api = tweepy.API(auth, parser=tweepy.parsers.JSONParser())"
   ]
  },
  {
   "cell_type": "code",
   "execution_count": 4,
   "metadata": {},
   "outputs": [],
   "source": [
    "# user handle\n",
    "target_term = \"@DaDataBootcamp\""
   ]
  },
  {
   "cell_type": "code",
   "execution_count": 5,
   "metadata": {},
   "outputs": [],
   "source": [
    "# Create Thank You Function\n",
    "def thank_you(last_id):\n",
    "    \"\"\"Tweets a Thank You message.\"\"\"\n",
    "\n",
    "    # Search for all tweets\n",
    "    public_tweets = api.search(target_term, \n",
    "                               count=10, \n",
    "                               result_type=\"recent\", \n",
    "                               since_id=last_id)\n",
    "    # First, check if there are any new tweets\n",
    "    if public_tweets[\"statuses\"]:\n",
    "        # Loop through all tweets\n",
    "        for tweet in public_tweets[\"statuses\"]:\n",
    "            # Get ID and Author of most recent tweet directed to me\n",
    "            tweet_id = tweet[\"id\"]\n",
    "            tweet_author = tweet[\"user\"][\"screen_name\"]\n",
    "            print(tweet_id)\n",
    "            # Respond to tweet\n",
    "            api.update_status(\n",
    "                f\"Thank you @{tweet_author}!\",\n",
    "                in_reply_to_status_id=tweet_id)\n",
    "\n",
    "            # Print success message\n",
    "            print(\"Successful response!\")\n",
    "\n",
    "            # Print message to signify complete cycle\n",
    "            print(\"We're done for now. I'll check again after a while.\")\n",
    "            print(tweet_id)\n",
    "            return tweet_id\n",
    "    else:\n",
    "        # If there are no new tweets then just return the last id\n",
    "        return last_id"
   ]
  },
  {
   "cell_type": "code",
   "execution_count": 6,
   "metadata": {},
   "outputs": [
    {
     "name": "stdout",
     "output_type": "stream",
     "text": [
      "Last None\n",
      "969369537073250304\n",
      "Successful response!\n",
      "We're done for now. I'll check again after a while.\n",
      "969369537073250304\n"
     ]
    }
   ],
   "source": [
    "last_id = None\n",
    "\n",
    "# Set timer\n",
    "t_end = time.time() + 10 * 2\n",
    "while time.time() < t_end:\n",
    "    print(\"Last\", last_id)\n",
    "    last_id = thank_you(last_id)\n",
    "    time.sleep(60)"
   ]
  },
  {
   "cell_type": "code",
   "execution_count": null,
   "metadata": {},
   "outputs": [],
   "source": []
  }
 ],
 "metadata": {
  "kernelspec": {
   "display_name": "PythonData",
   "language": "python",
   "name": "pythondata"
  },
  "language_info": {
   "codemirror_mode": {
    "name": "ipython",
    "version": 3
   },
   "file_extension": ".py",
   "mimetype": "text/x-python",
   "name": "python",
   "nbconvert_exporter": "python",
   "pygments_lexer": "ipython3",
   "version": "3.6.4"
  },
  "varInspector": {
   "cols": {
    "lenName": 16,
    "lenType": 16,
    "lenVar": 40
   },
   "kernels_config": {
    "python": {
     "delete_cmd_postfix": "",
     "delete_cmd_prefix": "del ",
     "library": "var_list.py",
     "varRefreshCmd": "print(var_dic_list())"
    },
    "r": {
     "delete_cmd_postfix": ") ",
     "delete_cmd_prefix": "rm(",
     "library": "var_list.r",
     "varRefreshCmd": "cat(var_dic_list()) "
    }
   },
   "types_to_exclude": [
    "module",
    "function",
    "builtin_function_or_method",
    "instance",
    "_Feature"
   ],
   "window_display": false
  }
 },
 "nbformat": 4,
 "nbformat_minor": 2
}
