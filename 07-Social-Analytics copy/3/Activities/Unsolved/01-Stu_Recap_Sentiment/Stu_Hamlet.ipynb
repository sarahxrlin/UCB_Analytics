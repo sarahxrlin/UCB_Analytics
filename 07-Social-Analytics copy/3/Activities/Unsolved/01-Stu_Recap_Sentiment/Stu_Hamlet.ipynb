{
 "cells": [
  {
   "cell_type": "code",
   "execution_count": null,
   "metadata": {
    "collapsed": true
   },
   "outputs": [],
   "source": [
    "# Import and Initialize Sentiment Analyzer\n",
    "from vaderSentiment.vaderSentiment import SentimentIntensityAnalyzer\n",
    "analyzer = SentimentIntensityAnalyzer()\n",
    "\n",
    "# Passage\n",
    "HamletPassage = \"\"\"To be, or not to be: that is the question: Whether 'tis\n",
    "nobler in the mind to suffer The slings and arrows of outrageous fortune, Or\n",
    "to take arms against a sea of troubles, And by opposing end them? To die: to\n",
    "sleep; No more; and by a sleep to say we end The heart-ache and the thousand\n",
    "natural shocks That flesh is heir to, 'tis a consummation Devoutly to be\n",
    "wish'd. To die, to sleep; To sleep: perchance to dream: ay, there's the rub;\n",
    "For in that sleep of death what dreams may come When we have shuffled off this\n",
    "mortal coil, Must give us pause: there's the respect That makes calamity of so\n",
    "long life; For who would bear the whips and scorns of time, The oppressor's\n",
    "wrong, the proud man's contumely, The pangs of despised love, the law's delay,\n",
    "The insolence of office and the spurns That patient merit of the unworthy\n",
    "takes, When he himself might his quietus make With a bare bodkin? who would\n",
    "fardels bear, To grunt and sweat under a weary life, But that the dread of\n",
    "something after death, The undiscover'd country from whose bourn No traveller\n",
    "returns, puzzles the will And makes us rather bear those ills we have Than fly\n",
    "to others that we know not of? Thus conscience does make cowards of us all;\n",
    "And thus the native hue of resolution Is sicklied o'er with the pale cast of\n",
    "thought, And enterprises of great pith and moment With this regard their\n",
    "currents turn awry, And lose the name of action.--Soft you now! The fair\n",
    "Ophelia! Nymph, in thy orisons Be all my sins remember'd.\"\"\""
   ]
  },
  {
   "cell_type": "code",
   "execution_count": null,
   "metadata": {
    "collapsed": true
   },
   "outputs": [],
   "source": [
    "# Run Vader Analysis on Passage\n",
    "# YOUR CODE HERE"
   ]
  },
  {
   "cell_type": "code",
   "execution_count": null,
   "metadata": {
    "collapsed": true
   },
   "outputs": [],
   "source": [
    "# Print  Analysis\n",
    "# YOUR CODE HERE"
   ]
  }
 ],
 "metadata": {
  "kernelspec": {
   "display_name": "Python 3",
   "language": "python",
   "name": "python3"
  },
  "language_info": {
   "codemirror_mode": {
    "name": "ipython",
    "version": 3
   },
   "file_extension": ".py",
   "mimetype": "text/x-python",
   "name": "python",
   "nbconvert_exporter": "python",
   "pygments_lexer": "ipython3",
   "version": "3.6.1"
  },
  "varInspector": {
   "cols": {
    "lenName": 16,
    "lenType": 16,
    "lenVar": 40
   },
   "kernels_config": {
    "python": {
     "delete_cmd_postfix": "",
     "delete_cmd_prefix": "del ",
     "library": "var_list.py",
     "varRefreshCmd": "print(var_dic_list())"
    },
    "r": {
     "delete_cmd_postfix": ") ",
     "delete_cmd_prefix": "rm(",
     "library": "var_list.r",
     "varRefreshCmd": "cat(var_dic_list()) "
    }
   },
   "types_to_exclude": [
    "module",
    "function",
    "builtin_function_or_method",
    "instance",
    "_Feature"
   ],
   "window_display": false
  }
 },
 "nbformat": 4,
 "nbformat_minor": 2
}
