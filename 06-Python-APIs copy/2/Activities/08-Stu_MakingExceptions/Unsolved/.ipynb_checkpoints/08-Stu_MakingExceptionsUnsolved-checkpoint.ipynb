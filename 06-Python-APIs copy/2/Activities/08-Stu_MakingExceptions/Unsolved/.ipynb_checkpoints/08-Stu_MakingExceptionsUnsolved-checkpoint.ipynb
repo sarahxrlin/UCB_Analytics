{
 "cells": [
  {
   "cell_type": "code",
   "execution_count": 3,
   "metadata": {},
   "outputs": [
    {
     "name": "stdout",
     "output_type": "stream",
     "text": [
      "Cannot be divisible by zero.\n",
      "division by zero\n"
     ]
    }
   ],
   "source": [
    "# Your assignment is to get the last line to print without changing any\n",
    "# of the code below. Instead, wrap each line that throws an error in a\n",
    "# try/except block.\n",
    "\n",
    "try:\n",
    "    print(\"Infinity looks like + \" + str(10 / 0) + \".\")\n",
    "except ZeroDivisionError as e:\n",
    "    print(e)\n"
   ]
  },
  {
   "cell_type": "code",
   "execution_count": 6,
   "metadata": {},
   "outputs": [
    {
     "name": "stdout",
     "output_type": "stream",
     "text": [
      "name 'name' is not defined\n"
     ]
    }
   ],
   "source": [
    "try:\n",
    "    print(\"I think her name was + \" + name + \"?\")\n",
    "except NameError as e:\n",
    "    print(e)\n",
    "\n",
    "\n"
   ]
  },
  {
   "cell_type": "code",
   "execution_count": 8,
   "metadata": {},
   "outputs": [
    {
     "name": "stdout",
     "output_type": "stream",
     "text": [
      "invalid literal for int() with base 10: 'Gabriel'\n"
     ]
    }
   ],
   "source": [
    "try:\n",
    "    print(\"Your name is a nonsense number. Look: \" + int(\"Gabriel\"))\n",
    "except ValueError as e:\n",
    "    print(e)"
   ]
  },
  {
   "cell_type": "code",
   "execution_count": 10,
   "metadata": {},
   "outputs": [
    {
     "name": "stdout",
     "output_type": "stream",
     "text": [
      "You made it through the gauntlet--the message survived!\n"
     ]
    }
   ],
   "source": [
    "print(\"You made it through the gauntlet--the message survived!\")"
   ]
  },
  {
   "cell_type": "code",
   "execution_count": null,
   "metadata": {},
   "outputs": [],
   "source": []
  },
  {
   "cell_type": "code",
   "execution_count": null,
   "metadata": {
    "collapsed": true
   },
   "outputs": [],
   "source": []
  }
 ],
 "metadata": {
  "kernelspec": {
   "display_name": "Python [conda env:PythonData]",
   "language": "python",
   "name": "conda-env-PythonData-py"
  },
  "language_info": {
   "codemirror_mode": {
    "name": "ipython",
    "version": 3
   },
   "file_extension": ".py",
   "mimetype": "text/x-python",
   "name": "python",
   "nbconvert_exporter": "python",
   "pygments_lexer": "ipython3",
   "version": "3.6.4"
  }
 },
 "nbformat": 4,
 "nbformat_minor": 2
}
