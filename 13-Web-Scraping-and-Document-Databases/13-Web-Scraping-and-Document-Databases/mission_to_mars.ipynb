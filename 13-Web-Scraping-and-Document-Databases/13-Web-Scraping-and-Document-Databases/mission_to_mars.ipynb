{
 "cells": [
  {
   "cell_type": "markdown",
   "metadata": {},
   "source": [
    "# Sorry Eddy, Sasha, and/or Allan (whoever is grading my homework) :( \n",
    "\n",
    "## I chose life these last two weeks (wedding and vacation) and couldn't catch up with the homework in time"
   ]
  },
  {
   "cell_type": "markdown",
   "metadata": {},
   "source": [
    "I will commit to looking at the solutions and finish watching the lectures (I'm about .5 class away) and then focus on the next topics since I don't think I'll have enough time to catch up before then. It proved to take to long to catch up in a day! I'm sorry :(("
   ]
  },
  {
   "cell_type": "code",
   "execution_count": null,
   "metadata": {
    "collapsed": true
   },
   "outputs": [],
   "source": []
  }
 ],
 "metadata": {
  "kernelspec": {
   "display_name": "Python [PythonData]",
   "language": "python",
   "name": "pythondata"
  },
  "language_info": {
   "codemirror_mode": {
    "name": "ipython",
    "version": 3
   },
   "file_extension": ".py",
   "mimetype": "text/x-python",
   "name": "python",
   "nbconvert_exporter": "python",
   "pygments_lexer": "ipython3",
   "version": "3.6.4"
  }
 },
 "nbformat": 4,
 "nbformat_minor": 2
}
