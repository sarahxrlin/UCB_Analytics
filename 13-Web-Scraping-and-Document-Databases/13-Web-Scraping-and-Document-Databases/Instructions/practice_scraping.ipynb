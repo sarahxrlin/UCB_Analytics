{
 "cells": [
  {
   "cell_type": "code",
   "execution_count": 2,
   "metadata": {
    "collapsed": true
   },
   "outputs": [],
   "source": [
    "# Dependencies\n",
    "from bs4 import BeautifulSoup\n",
    "import requests"
   ]
  },
  {
   "cell_type": "code",
   "execution_count": 7,
   "metadata": {
    "collapsed": true
   },
   "outputs": [],
   "source": [
    "# URL of Python reddit\n",
    "url = 'https://www.reddit.com/r/Python/'\n",
    "\n",
    "# Retrieve page with the requests module\n",
    "html = requests.get(url)\n",
    "\n",
    "# Create BeautifulSoup object; parse with 'html.parser'\n",
    "soup = BeautifulSoup(html.text, 'html.parser')"
   ]
  },
  {
   "cell_type": "code",
   "execution_count": 8,
   "metadata": {},
   "outputs": [
    {
     "name": "stdout",
     "output_type": "stream",
     "text": [
      "<html>\n",
      " <head>\n",
      "  <title>\n",
      "   Too Many Requests\n",
      "  </title>\n",
      "  <style>\n",
      "   body {\n",
      "          font: small verdana, arial, helvetica, sans-serif;\n",
      "          width: 600px;\n",
      "          margin: 0 auto;\n",
      "      }\n",
      "\n",
      "      h1 {\n",
      "          height: 40px;\n",
      "          background: transparent url(//www.redditstatic.com/reddit.com.header.png) no-repeat scroll top right;\n",
      "      }\n",
      "  </style>\n",
      " </head>\n",
      " <body>\n",
      "  <h1>\n",
      "   whoa there, pardner!\n",
      "  </h1>\n",
      "  <p>\n",
      "   we're sorry, but you appear to be a bot and we've seen too many requests\n",
      "from you lately. we enforce a hard speed limit on requests that appear to come\n",
      "from bots to prevent abuse.\n",
      "  </p>\n",
      "  <p>\n",
      "   if you are not a bot but are spoofing one via your browser's user agent\n",
      "string: please change your user agent string to avoid seeing this message\n",
      "again.\n",
      "  </p>\n",
      "  <p>\n",
      "   please wait 6 second(s) and try again.\n",
      "  </p>\n",
      "  <p>\n",
      "   as a reminder to developers, we recommend that clients make no\n",
      "    more than\n",
      "   <a href=\"http://github.com/reddit/reddit/wiki/API\">\n",
      "    one\n",
      "    request every two seconds\n",
      "   </a>\n",
      "   to avoid seeing this message.\n",
      "  </p>\n",
      " </body>\n",
      "</html>\n",
      "\n"
     ]
    }
   ],
   "source": [
    "print(soup.html.prettify())"
   ]
  },
  {
   "cell_type": "code",
   "execution_count": 5,
   "metadata": {
    "collapsed": true
   },
   "outputs": [],
   "source": []
  },
  {
   "cell_type": "code",
   "execution_count": 6,
   "metadata": {},
   "outputs": [
    {
     "name": "stdout",
     "output_type": "stream",
     "text": [
      "<html>\n",
      " <head>\n",
      "  <title>\n",
      "   Too Many Requests\n",
      "  </title>\n",
      "  <style>\n",
      "   body {\n",
      "          font: small verdana, arial, helvetica, sans-serif;\n",
      "          width: 600px;\n",
      "          margin: 0 auto;\n",
      "      }\n",
      "\n",
      "      h1 {\n",
      "          height: 40px;\n",
      "          background: transparent url(//www.redditstatic.com/reddit.com.header.png) no-repeat scroll top right;\n",
      "      }\n",
      "  </style>\n",
      " </head>\n",
      " <body>\n",
      "  <h1>\n",
      "   whoa there, pardner!\n",
      "  </h1>\n",
      "  <p>\n",
      "   we're sorry, but you appear to be a bot and we've seen too many requests\n",
      "from you lately. we enforce a hard speed limit on requests that appear to come\n",
      "from bots to prevent abuse.\n",
      "  </p>\n",
      "  <p>\n",
      "   if you are not a bot but are spoofing one via your browser's user agent\n",
      "string: please change your user agent string to avoid seeing this message\n",
      "again.\n",
      "  </p>\n",
      "  <p>\n",
      "   please wait 5 second(s) and try again.\n",
      "  </p>\n",
      "  <p>\n",
      "   as a reminder to developers, we recommend that clients make no\n",
      "    more than\n",
      "   <a href=\"http://github.com/reddit/reddit/wiki/API\">\n",
      "    one\n",
      "    request every two seconds\n",
      "   </a>\n",
      "   to avoid seeing this message.\n",
      "  </p>\n",
      " </body>\n",
      "</html>\n",
      "\n"
     ]
    }
   ],
   "source": []
  },
  {
   "cell_type": "code",
   "execution_count": null,
   "metadata": {
    "collapsed": true
   },
   "outputs": [],
   "source": [
    "# Examine the results, then determine element that contains sought info\n",
    "# results are returned as an iterable list\n",
    "results = soup.find_all('div', class_='top-matter')"
   ]
  },
  {
   "cell_type": "code",
   "execution_count": null,
   "metadata": {
    "collapsed": true
   },
   "outputs": [],
   "source": []
  }
 ],
 "metadata": {
  "kernelspec": {
   "display_name": "Python [PythonData]",
   "language": "python",
   "name": "pythondata"
  },
  "language_info": {
   "codemirror_mode": {
    "name": "ipython",
    "version": 3
   },
   "file_extension": ".py",
   "mimetype": "text/x-python",
   "name": "python",
   "nbconvert_exporter": "python",
   "pygments_lexer": "ipython3",
   "version": "3.6.4"
  }
 },
 "nbformat": 4,
 "nbformat_minor": 2
}
