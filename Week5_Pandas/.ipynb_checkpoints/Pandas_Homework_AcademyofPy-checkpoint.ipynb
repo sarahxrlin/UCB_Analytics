{
 "cells": [
  {
   "cell_type": "code",
   "execution_count": 1,
   "metadata": {
    "collapsed": true
   },
   "outputs": [],
   "source": [
    "#import modules\n",
    "import csv\n",
    "import pandas as pd\n",
    "import numpy as np"
   ]
  },
  {
   "cell_type": "code",
   "execution_count": 2,
   "metadata": {},
   "outputs": [
    {
     "ename": "FileNotFoundError",
     "evalue": "File b'students_complete.csv' does not exist",
     "output_type": "error",
     "traceback": [
      "\u001b[0;31m---------------------------------------------------------------------------\u001b[0m",
      "\u001b[0;31mFileNotFoundError\u001b[0m                         Traceback (most recent call last)",
      "\u001b[0;32m<ipython-input-2-4bd9968c2774>\u001b[0m in \u001b[0;36m<module>\u001b[0;34m()\u001b[0m\n\u001b[1;32m      1\u001b[0m \u001b[0;31m#read in csv\u001b[0m\u001b[0;34m\u001b[0m\u001b[0;34m\u001b[0m\u001b[0m\n\u001b[1;32m      2\u001b[0m \u001b[0;34m\u001b[0m\u001b[0m\n\u001b[0;32m----> 3\u001b[0;31m \u001b[0mstudents_file\u001b[0m \u001b[0;34m=\u001b[0m \u001b[0mpd\u001b[0m\u001b[0;34m.\u001b[0m\u001b[0mread_csv\u001b[0m\u001b[0;34m(\u001b[0m\u001b[0;34m'students_complete.csv'\u001b[0m\u001b[0;34m)\u001b[0m\u001b[0;34m\u001b[0m\u001b[0m\n\u001b[0m\u001b[1;32m      4\u001b[0m \u001b[0mschools_file\u001b[0m \u001b[0;34m=\u001b[0m \u001b[0mpd\u001b[0m\u001b[0;34m.\u001b[0m\u001b[0mread_csv\u001b[0m\u001b[0;34m(\u001b[0m\u001b[0;34m'schools_complete.csv'\u001b[0m\u001b[0;34m)\u001b[0m\u001b[0;34m\u001b[0m\u001b[0m\n\u001b[1;32m      5\u001b[0m \u001b[0;34m\u001b[0m\u001b[0m\n",
      "\u001b[0;32m/anaconda3/envs/PythonData/lib/python3.6/site-packages/pandas/io/parsers.py\u001b[0m in \u001b[0;36mparser_f\u001b[0;34m(filepath_or_buffer, sep, delimiter, header, names, index_col, usecols, squeeze, prefix, mangle_dupe_cols, dtype, engine, converters, true_values, false_values, skipinitialspace, skiprows, nrows, na_values, keep_default_na, na_filter, verbose, skip_blank_lines, parse_dates, infer_datetime_format, keep_date_col, date_parser, dayfirst, iterator, chunksize, compression, thousands, decimal, lineterminator, quotechar, quoting, escapechar, comment, encoding, dialect, tupleize_cols, error_bad_lines, warn_bad_lines, skipfooter, skip_footer, doublequote, delim_whitespace, as_recarray, compact_ints, use_unsigned, low_memory, buffer_lines, memory_map, float_precision)\u001b[0m\n\u001b[1;32m    707\u001b[0m                     skip_blank_lines=skip_blank_lines)\n\u001b[1;32m    708\u001b[0m \u001b[0;34m\u001b[0m\u001b[0m\n\u001b[0;32m--> 709\u001b[0;31m         \u001b[0;32mreturn\u001b[0m \u001b[0m_read\u001b[0m\u001b[0;34m(\u001b[0m\u001b[0mfilepath_or_buffer\u001b[0m\u001b[0;34m,\u001b[0m \u001b[0mkwds\u001b[0m\u001b[0;34m)\u001b[0m\u001b[0;34m\u001b[0m\u001b[0m\n\u001b[0m\u001b[1;32m    710\u001b[0m \u001b[0;34m\u001b[0m\u001b[0m\n\u001b[1;32m    711\u001b[0m     \u001b[0mparser_f\u001b[0m\u001b[0;34m.\u001b[0m\u001b[0m__name__\u001b[0m \u001b[0;34m=\u001b[0m \u001b[0mname\u001b[0m\u001b[0;34m\u001b[0m\u001b[0m\n",
      "\u001b[0;32m/anaconda3/envs/PythonData/lib/python3.6/site-packages/pandas/io/parsers.py\u001b[0m in \u001b[0;36m_read\u001b[0;34m(filepath_or_buffer, kwds)\u001b[0m\n\u001b[1;32m    447\u001b[0m \u001b[0;34m\u001b[0m\u001b[0m\n\u001b[1;32m    448\u001b[0m     \u001b[0;31m# Create the parser.\u001b[0m\u001b[0;34m\u001b[0m\u001b[0;34m\u001b[0m\u001b[0m\n\u001b[0;32m--> 449\u001b[0;31m     \u001b[0mparser\u001b[0m \u001b[0;34m=\u001b[0m \u001b[0mTextFileReader\u001b[0m\u001b[0;34m(\u001b[0m\u001b[0mfilepath_or_buffer\u001b[0m\u001b[0;34m,\u001b[0m \u001b[0;34m**\u001b[0m\u001b[0mkwds\u001b[0m\u001b[0;34m)\u001b[0m\u001b[0;34m\u001b[0m\u001b[0m\n\u001b[0m\u001b[1;32m    450\u001b[0m \u001b[0;34m\u001b[0m\u001b[0m\n\u001b[1;32m    451\u001b[0m     \u001b[0;32mif\u001b[0m \u001b[0mchunksize\u001b[0m \u001b[0;32mor\u001b[0m \u001b[0miterator\u001b[0m\u001b[0;34m:\u001b[0m\u001b[0;34m\u001b[0m\u001b[0m\n",
      "\u001b[0;32m/anaconda3/envs/PythonData/lib/python3.6/site-packages/pandas/io/parsers.py\u001b[0m in \u001b[0;36m__init__\u001b[0;34m(self, f, engine, **kwds)\u001b[0m\n\u001b[1;32m    816\u001b[0m             \u001b[0mself\u001b[0m\u001b[0;34m.\u001b[0m\u001b[0moptions\u001b[0m\u001b[0;34m[\u001b[0m\u001b[0;34m'has_index_names'\u001b[0m\u001b[0;34m]\u001b[0m \u001b[0;34m=\u001b[0m \u001b[0mkwds\u001b[0m\u001b[0;34m[\u001b[0m\u001b[0;34m'has_index_names'\u001b[0m\u001b[0;34m]\u001b[0m\u001b[0;34m\u001b[0m\u001b[0m\n\u001b[1;32m    817\u001b[0m \u001b[0;34m\u001b[0m\u001b[0m\n\u001b[0;32m--> 818\u001b[0;31m         \u001b[0mself\u001b[0m\u001b[0;34m.\u001b[0m\u001b[0m_make_engine\u001b[0m\u001b[0;34m(\u001b[0m\u001b[0mself\u001b[0m\u001b[0;34m.\u001b[0m\u001b[0mengine\u001b[0m\u001b[0;34m)\u001b[0m\u001b[0;34m\u001b[0m\u001b[0m\n\u001b[0m\u001b[1;32m    819\u001b[0m \u001b[0;34m\u001b[0m\u001b[0m\n\u001b[1;32m    820\u001b[0m     \u001b[0;32mdef\u001b[0m \u001b[0mclose\u001b[0m\u001b[0;34m(\u001b[0m\u001b[0mself\u001b[0m\u001b[0;34m)\u001b[0m\u001b[0;34m:\u001b[0m\u001b[0;34m\u001b[0m\u001b[0m\n",
      "\u001b[0;32m/anaconda3/envs/PythonData/lib/python3.6/site-packages/pandas/io/parsers.py\u001b[0m in \u001b[0;36m_make_engine\u001b[0;34m(self, engine)\u001b[0m\n\u001b[1;32m   1047\u001b[0m     \u001b[0;32mdef\u001b[0m \u001b[0m_make_engine\u001b[0m\u001b[0;34m(\u001b[0m\u001b[0mself\u001b[0m\u001b[0;34m,\u001b[0m \u001b[0mengine\u001b[0m\u001b[0;34m=\u001b[0m\u001b[0;34m'c'\u001b[0m\u001b[0;34m)\u001b[0m\u001b[0;34m:\u001b[0m\u001b[0;34m\u001b[0m\u001b[0m\n\u001b[1;32m   1048\u001b[0m         \u001b[0;32mif\u001b[0m \u001b[0mengine\u001b[0m \u001b[0;34m==\u001b[0m \u001b[0;34m'c'\u001b[0m\u001b[0;34m:\u001b[0m\u001b[0;34m\u001b[0m\u001b[0m\n\u001b[0;32m-> 1049\u001b[0;31m             \u001b[0mself\u001b[0m\u001b[0;34m.\u001b[0m\u001b[0m_engine\u001b[0m \u001b[0;34m=\u001b[0m \u001b[0mCParserWrapper\u001b[0m\u001b[0;34m(\u001b[0m\u001b[0mself\u001b[0m\u001b[0;34m.\u001b[0m\u001b[0mf\u001b[0m\u001b[0;34m,\u001b[0m \u001b[0;34m**\u001b[0m\u001b[0mself\u001b[0m\u001b[0;34m.\u001b[0m\u001b[0moptions\u001b[0m\u001b[0;34m)\u001b[0m\u001b[0;34m\u001b[0m\u001b[0m\n\u001b[0m\u001b[1;32m   1050\u001b[0m         \u001b[0;32melse\u001b[0m\u001b[0;34m:\u001b[0m\u001b[0;34m\u001b[0m\u001b[0m\n\u001b[1;32m   1051\u001b[0m             \u001b[0;32mif\u001b[0m \u001b[0mengine\u001b[0m \u001b[0;34m==\u001b[0m \u001b[0;34m'python'\u001b[0m\u001b[0;34m:\u001b[0m\u001b[0;34m\u001b[0m\u001b[0m\n",
      "\u001b[0;32m/anaconda3/envs/PythonData/lib/python3.6/site-packages/pandas/io/parsers.py\u001b[0m in \u001b[0;36m__init__\u001b[0;34m(self, src, **kwds)\u001b[0m\n\u001b[1;32m   1693\u001b[0m         \u001b[0mkwds\u001b[0m\u001b[0;34m[\u001b[0m\u001b[0;34m'allow_leading_cols'\u001b[0m\u001b[0;34m]\u001b[0m \u001b[0;34m=\u001b[0m \u001b[0mself\u001b[0m\u001b[0;34m.\u001b[0m\u001b[0mindex_col\u001b[0m \u001b[0;32mis\u001b[0m \u001b[0;32mnot\u001b[0m \u001b[0;32mFalse\u001b[0m\u001b[0;34m\u001b[0m\u001b[0m\n\u001b[1;32m   1694\u001b[0m \u001b[0;34m\u001b[0m\u001b[0m\n\u001b[0;32m-> 1695\u001b[0;31m         \u001b[0mself\u001b[0m\u001b[0;34m.\u001b[0m\u001b[0m_reader\u001b[0m \u001b[0;34m=\u001b[0m \u001b[0mparsers\u001b[0m\u001b[0;34m.\u001b[0m\u001b[0mTextReader\u001b[0m\u001b[0;34m(\u001b[0m\u001b[0msrc\u001b[0m\u001b[0;34m,\u001b[0m \u001b[0;34m**\u001b[0m\u001b[0mkwds\u001b[0m\u001b[0;34m)\u001b[0m\u001b[0;34m\u001b[0m\u001b[0m\n\u001b[0m\u001b[1;32m   1696\u001b[0m \u001b[0;34m\u001b[0m\u001b[0m\n\u001b[1;32m   1697\u001b[0m         \u001b[0;31m# XXX\u001b[0m\u001b[0;34m\u001b[0m\u001b[0;34m\u001b[0m\u001b[0m\n",
      "\u001b[0;32mpandas/_libs/parsers.pyx\u001b[0m in \u001b[0;36mpandas._libs.parsers.TextReader.__cinit__\u001b[0;34m()\u001b[0m\n",
      "\u001b[0;32mpandas/_libs/parsers.pyx\u001b[0m in \u001b[0;36mpandas._libs.parsers.TextReader._setup_parser_source\u001b[0;34m()\u001b[0m\n",
      "\u001b[0;31mFileNotFoundError\u001b[0m: File b'students_complete.csv' does not exist"
     ]
    }
   ],
   "source": [
    "#read in csv\n",
    "\n",
    "students_file = pd.read_csv('students_complete.csv')\n",
    "schools_file = pd.read_csv('schools_complete.csv')\n",
    "\n",
    "students_file.head()"
   ]
  },
  {
   "cell_type": "code",
   "execution_count": null,
   "metadata": {
    "collapsed": true
   },
   "outputs": [],
   "source": [
    "\n",
    "schools_file"
   ]
  },
  {
   "cell_type": "code",
   "execution_count": null,
   "metadata": {
    "collapsed": true
   },
   "outputs": [],
   "source": [
    "# District Summary\n",
    "# Create a high level snapshot (in table form) of the district's key metrics, including:\n",
    "\n",
    "#Total Schools\n",
    "num_schools = schools_file[\"name\"].nunique()\n",
    "num_schools\n"
   ]
  },
  {
   "cell_type": "code",
   "execution_count": null,
   "metadata": {
    "collapsed": true
   },
   "outputs": [],
   "source": [
    "#Total Students\n",
    "num_students = students_file[\"name\"].nunique()\n",
    "num_students\n"
   ]
  },
  {
   "cell_type": "code",
   "execution_count": null,
   "metadata": {
    "collapsed": true
   },
   "outputs": [],
   "source": [
    "#Total Budget\n",
    "total_budget = schools_file[\"budget\"].sum()\n",
    "total_budget = \"$\" + str(total_budget)\n"
   ]
  },
  {
   "cell_type": "code",
   "execution_count": null,
   "metadata": {
    "collapsed": true
   },
   "outputs": [],
   "source": [
    "#Average Math Score\n",
    "avg_math_score = round(students_file[\"math_score\"].mean(),2)\n",
    "avg_math_score\n"
   ]
  },
  {
   "cell_type": "code",
   "execution_count": null,
   "metadata": {
    "collapsed": true
   },
   "outputs": [],
   "source": [
    "#Average Reading Score\n",
    "avg_rdg_score = round(students_file[\"reading_score\"].mean(),2)\n",
    "avg_rdg_score\n"
   ]
  },
  {
   "cell_type": "code",
   "execution_count": null,
   "metadata": {
    "collapsed": true
   },
   "outputs": [],
   "source": [
    "#% Passing Math\n",
    "\n",
    "pass_math = len(students_file[students_file[\"math_score\"] > 70])/num_students*100\n",
    "pass_math = round(pass_math,2)\n",
    "pass_math\n",
    "\n",
    "#pass_math_perc = (pass_math['name'])/num_students * 100, 2)\n",
    "#pass_math_perc\n"
   ]
  },
  {
   "cell_type": "code",
   "execution_count": null,
   "metadata": {
    "collapsed": true
   },
   "outputs": [],
   "source": [
    "#% Passing Reading\n",
    "pass_read = students_file[students_file[\"reading_score\"] > 70].count()\n",
    "\n",
    "pass_read_perc = round(pass_read['name']/num_students * 100, 2)\n",
    "pass_read_perc\n"
   ]
  },
  {
   "cell_type": "code",
   "execution_count": null,
   "metadata": {
    "collapsed": true
   },
   "outputs": [],
   "source": [
    "#Overall Passing Rate (Average of the above two)\n",
    "\n",
    "avg_overall = (pass_math + pass_read_perc)/2\n",
    "avg_overall"
   ]
  },
  {
   "cell_type": "code",
   "execution_count": null,
   "metadata": {
    "collapsed": true
   },
   "outputs": [],
   "source": [
    "# District Summary table\n",
    "district_summary = pd.DataFrame({\"Total Schools\": [num_schools],\n",
    "\"Total Students\": [num_students],\n",
    "\"Total Budget\": [total_budget],\n",
    "\"Average Math Score\": [avg_math_score],\n",
    "\"Average Reading Score\": [avg_rdg_score],\n",
    "\"% Passing Math\": [pass_math],\n",
    "\"% Passing Reading\": [pass_read_perc],\n",
    "\"Overall Passing Rate (Average of the above two)\": [avg_overall]})\n",
    "\n",
    "district_summary"
   ]
  },
  {
   "cell_type": "code",
   "execution_count": null,
   "metadata": {
    "collapsed": true
   },
   "outputs": [],
   "source": [
    "#School Summary\n",
    "\n",
    "#Create an overview table that summarizes key metrics about each school, including:\n",
    "#School Name\n",
    "merged_df = pd.merge(students_file, schools_file, how = 'left', left_on=\"school\", right_on = \"name\")\n",
    "merged_df.head(100)\n",
    "\n",
    "grouped_df = merged_df.groupby('school')\n",
    "#print(type(grouped_df))\n",
    "\n",
    "grouped_df.count().head()"
   ]
  },
  {
   "cell_type": "code",
   "execution_count": null,
   "metadata": {
    "collapsed": true
   },
   "outputs": [],
   "source": [
    "#School Type\n",
    "\n",
    "#set index for school_file\n",
    "new_schools_file = schools_file.set_index('name')\n",
    "new_schools_file"
   ]
  },
  {
   "cell_type": "code",
   "execution_count": null,
   "metadata": {
    "collapsed": true
   },
   "outputs": [],
   "source": [
    "#School Type\n",
    "#Total Students\n",
    "num_students = students_file[\"school\"].value_counts()\n",
    "num_students.head()\n"
   ]
  },
  {
   "cell_type": "code",
   "execution_count": null,
   "metadata": {
    "collapsed": true
   },
   "outputs": [],
   "source": [
    "#Total School Budget\n",
    "school_budget = new_schools_file[\"budget\"]\n",
    "school_budget"
   ]
  },
  {
   "cell_type": "code",
   "execution_count": null,
   "metadata": {
    "collapsed": true
   },
   "outputs": [],
   "source": [
    "#Per Student Budget\n",
    "\n",
    "new_schools_file[\"budget per student\"] = new_schools_file[\"budget\"]/new_schools_file[\"size\"]\n",
    "new_schools_file.head()"
   ]
  },
  {
   "cell_type": "code",
   "execution_count": null,
   "metadata": {
    "collapsed": true
   },
   "outputs": [],
   "source": [
    "#Average Math Score\n",
    "grouped_df_avg_math = round(grouped_df['math_score'].mean(), 2)\n",
    "grouped_df_avg_math.head()"
   ]
  },
  {
   "cell_type": "code",
   "execution_count": null,
   "metadata": {
    "collapsed": true
   },
   "outputs": [],
   "source": [
    "#Average Reading Score\n",
    "grouped_df_avg_read = round(grouped_df['reading_score'].mean(), 2)\n",
    "grouped_df_avg_read.head()"
   ]
  },
  {
   "cell_type": "code",
   "execution_count": null,
   "metadata": {
    "collapsed": true
   },
   "outputs": [],
   "source": [
    "#% Passing Math\n",
    "\n",
    "stu_pass_math = students_file[students_file[\"math_score\"] > 70]\n",
    "math_groupby_df = stu_pass_math.groupby('school')\n",
    "math_groupby_df\n",
    "num_pass_math = math_groupby_df['math_score'].count()\n",
    "new_schools_file[\"# pass math\"] = num_pass_math\n",
    "new_schools_file[\"% pass math\"] = round((new_schools_file[\"# pass math\"]/new_schools_file[\"size\"])*100, 2)\n",
    "new_schools_file.head()"
   ]
  },
  {
   "cell_type": "code",
   "execution_count": null,
   "metadata": {
    "collapsed": true
   },
   "outputs": [],
   "source": [
    "#% Passing Reading\n",
    "stu_pass_read = students_file[students_file[\"reading_score\"] > 70]\n",
    "read_groupby_df = stu_pass_read.groupby('school')\n",
    "read_groupby_df\n",
    "num_pass_read = read_groupby_df['reading_score'].count()\n",
    "new_schools_file[\"# pass reading\"] = num_pass_read\n",
    "new_schools_file[\"% pass reading\"] = round((new_schools_file[\"# pass reading\"]/new_schools_file[\"size\"])*100, 2)\n",
    "new_schools_file.head()"
   ]
  },
  {
   "cell_type": "code",
   "execution_count": null,
   "metadata": {
    "collapsed": true
   },
   "outputs": [],
   "source": [
    "#Overall Passing Rate (Average of the above two)\n",
    "\n",
    "new_schools_file[\"overall % passing rate\"] = round((new_schools_file[\"% pass math\"] + new_schools_file[\"% pass reading\"])/2, 2)\n",
    "new_schools_file.head()"
   ]
  },
  {
   "cell_type": "code",
   "execution_count": null,
   "metadata": {
    "collapsed": true
   },
   "outputs": [],
   "source": [
    "# School Summary Table \n",
    "\n",
    "school_summary_df = pd.DataFrame({\n",
    "    \"Type\": new_schools_file['type'],\n",
    "    \"Total Students\": new_schools_file['size'],\n",
    "    \"Total School Budget\": new_schools_file['budget'],\n",
    "    \"Per Student Budget\": new_schools_file[\"budget per student\"],\n",
    "    \"Average Math Score\": grouped_df_avg_math,\n",
    "    \"Average Reading Score\": grouped_df_avg_read,\n",
    "    \"% Passing Math\": new_schools_file[\"% pass math\"],\n",
    "    \"% Passing Reading\": new_schools_file[\"% pass reading\"],\n",
    "    \"Overall % Passing Rate\": new_schools_file[\"overall % passing rate\"]\n",
    "})\n",
    "\n",
    "school_summary_df.head()"
   ]
  },
  {
   "cell_type": "code",
   "execution_count": null,
   "metadata": {
    "collapsed": true
   },
   "outputs": [],
   "source": [
    "# Top Performing Schools (By Passing Rate)\n",
    "top_schools = school_summary_df.sort_values(by='Overall % Passing Rate',ascending=False)\n",
    "top_schools.head(5)"
   ]
  },
  {
   "cell_type": "code",
   "execution_count": null,
   "metadata": {
    "collapsed": true
   },
   "outputs": [],
   "source": [
    "# Bottom Performing Schools (By Passing Rate) \n",
    "bottom_schools = school_summary_df.sort_values(by='Overall % Passing Rate',ascending=True)\n",
    "bottom_schools.head(5)"
   ]
  },
  {
   "cell_type": "code",
   "execution_count": null,
   "metadata": {
    "collapsed": true
   },
   "outputs": [],
   "source": [
    "# Math Scores by Grade\n",
    "\n",
    "#Create a table that lists the average Math Score for students of \n",
    "#each grade level (9th, 10th, 11th, 12th) at each school.\n",
    "\n",
    "groupedby_grade = students_file.groupby(['school', 'grade'])\n",
    "math_score_by_grade = round(groupedby_grade['math_score'].mean(),2)\n",
    "math_score_by_grade.head(10)\n",
    "\n"
   ]
  },
  {
   "cell_type": "code",
   "execution_count": null,
   "metadata": {
    "collapsed": true
   },
   "outputs": [],
   "source": [
    "#Reading Scores by Grade\n",
    "\n",
    "#Create a table that lists the average Reading Score for students of \n",
    "# each grade level (9th, 10th, 11th, 12th) at each school.\n",
    "\n",
    "groupedby_grade = students_file.groupby(['school', 'grade'])\n",
    "read_score_by_grade = round(groupedby_grade['reading_score'].mean(),2)\n",
    "read_score_by_grade.head(10)"
   ]
  },
  {
   "cell_type": "code",
   "execution_count": null,
   "metadata": {
    "collapsed": true
   },
   "outputs": [],
   "source": [
    "#Scores by School Spending\n",
    "\n",
    "#Create a table that breaks down school performances based on average Spending Ranges (Per Student). \n",
    "#Use 4 reasonable bins to group school spending. Include in the table each of the following:\n",
    "school_summary_df.describe()\n",
    "\n",
    "# Average Math Score\n",
    "# Average Reading Score\n",
    "# % Passing Math\n",
    "# % Passing Reading\n",
    "# Overall Passing Rate (Average of the above two)"
   ]
  },
  {
   "cell_type": "code",
   "execution_count": null,
   "metadata": {
    "collapsed": true
   },
   "outputs": [],
   "source": [
    "# create 4 bins\n",
    "bins = [575, 600, 625, 650,675]\n",
    "bin_names = ['575-600', '600-625', '625-650', '650-675']"
   ]
  },
  {
   "cell_type": "code",
   "execution_count": null,
   "metadata": {
    "collapsed": true
   },
   "outputs": [],
   "source": [
    "# place per student budget into bins\n",
    "pd.cut(school_summary_df[\"Per Student Budget\"], bins, labels=bin_names)"
   ]
  },
  {
   "cell_type": "code",
   "execution_count": null,
   "metadata": {
    "collapsed": true
   },
   "outputs": [],
   "source": [
    "# get just the columns we want\n",
    "school_summary_trim = pd.DataFrame(school_summary_df, columns=['Average Math Score',\n",
    "                                                                'Average Reading Score',\n",
    "                                                               '% Passing Math',\n",
    "                                                               '% Passing Reading',\n",
    "                                                                'Overall % Passing Rate'])\n",
    "school_summary_trim"
   ]
  },
  {
   "cell_type": "code",
   "execution_count": null,
   "metadata": {
    "collapsed": true
   },
   "outputs": [],
   "source": [
    "# add bins to each school\n",
    "school_summary_trim[\"Spending Ranges (per Student)\"] = pd.cut(school_summary_df[\"Per Student Budget\"], \n",
    "                                                            bins, labels=bin_names)\n",
    "\n",
    "school_summary_trim"
   ]
  },
  {
   "cell_type": "code",
   "execution_count": null,
   "metadata": {
    "collapsed": true
   },
   "outputs": [],
   "source": [
    "spending_groups_trim = school_summary_trim.groupby('Spending Ranges (per Student)')\n",
    "\n",
    "round(spending_groups_trim.mean(),2)"
   ]
  },
  {
   "cell_type": "code",
   "execution_count": null,
   "metadata": {
    "collapsed": true
   },
   "outputs": [],
   "source": [
    "# look at stats table for a good way to select bings\n",
    "school_summary_df.describe()"
   ]
  },
  {
   "cell_type": "code",
   "execution_count": null,
   "metadata": {
    "collapsed": true
   },
   "outputs": [],
   "source": [
    "# Scores by School Size\n",
    "\n",
    "# Repeat the above breakdown, but this time group schools based on a \n",
    "# reasonable approximation of school size (Small, Medium, Large).\n",
    "\n",
    "# create 4 bins\n",
    "school_bins = [0, 1500, 3500, 5000]\n",
    "school_bin_names = ['Small (<1500)', 'Medium (1500-3500)', 'Large (3500-5000)']"
   ]
  },
  {
   "cell_type": "code",
   "execution_count": null,
   "metadata": {
    "collapsed": true
   },
   "outputs": [],
   "source": [
    "# get just the columns we want\n",
    "school_summary_trim_2 = pd.DataFrame(school_summary_df, columns=['Average Math Score',\n",
    "                                                                'Average Reading Score',\n",
    "                                                               '% Passing Math',\n",
    "                                                               '% Passing Reading',\n",
    "                                                                'Overall % Passing Rate'])\n",
    "school_summary_trim_2"
   ]
  },
  {
   "cell_type": "code",
   "execution_count": null,
   "metadata": {
    "collapsed": true
   },
   "outputs": [],
   "source": [
    "school_summary_trim_2[\"School Size\"] = pd.cut(school_summary_df[\"Total Students\"], school_bins, labels=school_bin_names)\n",
    "school_summary_trim_2\n"
   ]
  },
  {
   "cell_type": "code",
   "execution_count": null,
   "metadata": {
    "collapsed": true
   },
   "outputs": [],
   "source": [
    "school_size_stats = school_summary_trim_2.groupby('School Size')\n",
    "\n",
    "school_size_stats = round(school_size_stats.mean(),2)\n",
    "school_size_stats"
   ]
  },
  {
   "cell_type": "code",
   "execution_count": null,
   "metadata": {
    "collapsed": true
   },
   "outputs": [],
   "source": [
    "# Scores by School Type\n",
    "\n",
    "#Repeat the above breakdown, but this time group \n",
    "#schools based on school type (Charter vs. District).\n",
    "\n",
    "#get columns we want\n",
    "school_summary_trim_3 = pd.DataFrame(school_summary_df, columns=['Average Math Score',\n",
    "                                                                'Average Reading Score',\n",
    "                                                               '% Passing Math',\n",
    "                                                               '% Passing Reading',\n",
    "                                                                'Overall % Passing Rate',\n",
    "                                                                'Type'])\n",
    "school_summary_trim_3\n"
   ]
  },
  {
   "cell_type": "code",
   "execution_count": null,
   "metadata": {
    "collapsed": true
   },
   "outputs": [],
   "source": [
    "school_type_stats = school_summary_trim_3.groupby('Type')\n",
    "\n",
    "round(school_type_stats.mean(),2)"
   ]
  },
  {
   "cell_type": "code",
   "execution_count": null,
   "metadata": {
    "collapsed": true
   },
   "outputs": [],
   "source": []
  }
 ],
 "metadata": {
  "kernelspec": {
   "display_name": "Python [PythonData]",
   "language": "python",
   "name": "pythondata"
  },
  "language_info": {
   "codemirror_mode": {
    "name": "ipython",
    "version": 3
   },
   "file_extension": ".py",
   "mimetype": "text/x-python",
   "name": "python",
   "nbconvert_exporter": "python",
   "pygments_lexer": "ipython3",
   "version": "3.6.4"
  }
 },
 "nbformat": 4,
 "nbformat_minor": 2
}
