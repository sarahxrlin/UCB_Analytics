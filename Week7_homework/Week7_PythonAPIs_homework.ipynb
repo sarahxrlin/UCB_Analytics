{
 "cells": [
  {
   "cell_type": "markdown",
   "metadata": {},
   "source": [
    "Observable trends:\n",
    "\n",
    "1) Cloudiness does not change across latitudes\n",
    "\n",
    "2) Temperature increases as you move closer to the equator\n",
    "\n",
    "3) Wind speed increases as you move away from the equator"
   ]
  },
  {
   "cell_type": "code",
   "execution_count": 190,
   "metadata": {
    "collapsed": true
   },
   "outputs": [],
   "source": [
    "#import dependencies\n",
    "import requests\n",
    "from pprint import pprint\n",
    "import json\n",
    "import citipy\n",
    "import openweathermapy.core as owm\n",
    "import random\n",
    "import pandas as pd"
   ]
  },
  {
   "cell_type": "code",
   "execution_count": 191,
   "metadata": {
    "collapsed": true
   },
   "outputs": [],
   "source": [
    "# import api_key\n",
    "from weather_api import api_key"
   ]
  },
  {
   "cell_type": "code",
   "execution_count": 192,
   "metadata": {},
   "outputs": [
    {
     "data": {
      "text/plain": [
       "46832"
      ]
     },
     "execution_count": 192,
     "metadata": {},
     "output_type": "execute_result"
    }
   ],
   "source": [
    "# grab 500 random cities in worldcities.csv\n",
    "city_data = pd.read_csv('citipy-0.0.5/citipy/worldcities.csv')\n",
    "city_data.head()\n",
    "len(city_data)"
   ]
  },
  {
   "cell_type": "code",
   "execution_count": 193,
   "metadata": {},
   "outputs": [
    {
     "data": {
      "text/html": [
       "<div>\n",
       "<style scoped>\n",
       "    .dataframe tbody tr th:only-of-type {\n",
       "        vertical-align: middle;\n",
       "    }\n",
       "\n",
       "    .dataframe tbody tr th {\n",
       "        vertical-align: top;\n",
       "    }\n",
       "\n",
       "    .dataframe thead th {\n",
       "        text-align: right;\n",
       "    }\n",
       "</style>\n",
       "<table border=\"1\" class=\"dataframe\">\n",
       "  <thead>\n",
       "    <tr style=\"text-align: right;\">\n",
       "      <th></th>\n",
       "      <th>Country</th>\n",
       "      <th>City</th>\n",
       "      <th>Latitude</th>\n",
       "      <th>Longitude</th>\n",
       "    </tr>\n",
       "  </thead>\n",
       "  <tbody>\n",
       "    <tr>\n",
       "      <th>45939</th>\n",
       "      <td>us</td>\n",
       "      <td>montclair</td>\n",
       "      <td>38.610833</td>\n",
       "      <td>-77.340000</td>\n",
       "    </tr>\n",
       "    <tr>\n",
       "      <th>26220</th>\n",
       "      <td>nz</td>\n",
       "      <td>kaitangata</td>\n",
       "      <td>-46.275000</td>\n",
       "      <td>169.850000</td>\n",
       "    </tr>\n",
       "    <tr>\n",
       "      <th>35947</th>\n",
       "      <td>ru</td>\n",
       "      <td>gremyachye</td>\n",
       "      <td>51.974200</td>\n",
       "      <td>38.800100</td>\n",
       "    </tr>\n",
       "    <tr>\n",
       "      <th>5509</th>\n",
       "      <td>ch</td>\n",
       "      <td>therwil</td>\n",
       "      <td>47.501166</td>\n",
       "      <td>7.552859</td>\n",
       "    </tr>\n",
       "    <tr>\n",
       "      <th>11304</th>\n",
       "      <td>fi</td>\n",
       "      <td>valkeakoski</td>\n",
       "      <td>61.266667</td>\n",
       "      <td>24.033333</td>\n",
       "    </tr>\n",
       "  </tbody>\n",
       "</table>\n",
       "</div>"
      ],
      "text/plain": [
       "      Country         City   Latitude   Longitude\n",
       "45939      us    montclair  38.610833  -77.340000\n",
       "26220      nz   kaitangata -46.275000  169.850000\n",
       "35947      ru   gremyachye  51.974200   38.800100\n",
       "5509       ch      therwil  47.501166    7.552859\n",
       "11304      fi  valkeakoski  61.266667   24.033333"
      ]
     },
     "execution_count": 193,
     "metadata": {},
     "output_type": "execute_result"
    }
   ],
   "source": [
    "city_sample = city_data.sample(10) #I can change this number to 500, but did 20 to save space\n",
    "city_sample.head()"
   ]
  },
  {
   "cell_type": "code",
   "execution_count": 194,
   "metadata": {
    "scrolled": false
   },
   "outputs": [
    {
     "name": "stdout",
     "output_type": "stream",
     "text": [
      "Now retrieving city # 1: montclair\n",
      "http://api.openweathermap.org/data/2.5/weather?appid=efbe68058e19e818378ea254e7ccdb09&units=imperial&q=montclair\n",
      "Now retrieving city # 2: kaitangata\n",
      "http://api.openweathermap.org/data/2.5/weather?appid=efbe68058e19e818378ea254e7ccdb09&units=imperial&q=kaitangata\n",
      "Now retrieving city # 3: gremyachye\n",
      "http://api.openweathermap.org/data/2.5/weather?appid=efbe68058e19e818378ea254e7ccdb09&units=imperial&q=gremyachye\n",
      "Now retrieving city # 4: therwil\n",
      "http://api.openweathermap.org/data/2.5/weather?appid=efbe68058e19e818378ea254e7ccdb09&units=imperial&q=therwil\n",
      "Now retrieving city # 5: valkeakoski\n",
      "http://api.openweathermap.org/data/2.5/weather?appid=efbe68058e19e818378ea254e7ccdb09&units=imperial&q=valkeakoski\n",
      "Now retrieving city # 6: woudrichem\n",
      "http://api.openweathermap.org/data/2.5/weather?appid=efbe68058e19e818378ea254e7ccdb09&units=imperial&q=woudrichem\n",
      "Now retrieving city # 7: cajetina\n",
      "http://api.openweathermap.org/data/2.5/weather?appid=efbe68058e19e818378ea254e7ccdb09&units=imperial&q=cajetina\n",
      "Now retrieving city # 8: gola gokarannath\n",
      "http://api.openweathermap.org/data/2.5/weather?appid=efbe68058e19e818378ea254e7ccdb09&units=imperial&q=gola+gokarannath\n",
      "Now retrieving city # 9: ondangwa\n",
      "http://api.openweathermap.org/data/2.5/weather?appid=efbe68058e19e818378ea254e7ccdb09&units=imperial&q=ondangwa\n",
      "Now retrieving city # 10: west palm beach\n",
      "http://api.openweathermap.org/data/2.5/weather?appid=efbe68058e19e818378ea254e7ccdb09&units=imperial&q=west+palm+beach\n"
     ]
    }
   ],
   "source": [
    "#iterate through the list of cities and perform a request for data on each\n",
    "weather_json = []\n",
    "\n",
    "city_count = 1\n",
    "\n",
    "# set up params\n",
    "params = {\"appid\": api_key,\n",
    "          \"units\": \"imperial\"}\n",
    "\n",
    "for index, row in city_sample.iterrows():\n",
    "\n",
    "    # update params with zipcode each loop\n",
    "    params['q'] = row['City']\n",
    "\n",
    "    base_url = \"http://api.openweathermap.org/data/2.5/weather?\"\n",
    "\n",
    "    # Print log to ensure loop is working correctly\n",
    "    print(\"Now retrieving city # \" + str(city_count) + \": \" + row['City'])\n",
    "    city_count += 1\n",
    "\n",
    "    # Run requests to grab the JSON at the requested URL\n",
    "    response = requests.get(base_url, params=params)\n",
    "    print(response.url)\n",
    "\n",
    "    response_json = response.json()\n",
    "    weather_json.append(response_json)"
   ]
  },
  {
   "cell_type": "code",
   "execution_count": 195,
   "metadata": {},
   "outputs": [
    {
     "ename": "AttributeError",
     "evalue": "'NoneType' object has no attribute 'get'",
     "output_type": "error",
     "traceback": [
      "\u001b[0;31m---------------------------------------------------------------------------\u001b[0m",
      "\u001b[0;31mAttributeError\u001b[0m                            Traceback (most recent call last)",
      "\u001b[0;32m<ipython-input-195-78dc82a824cb>\u001b[0m in \u001b[0;36m<module>\u001b[0;34m()\u001b[0m\n\u001b[1;32m      1\u001b[0m \u001b[0;31m# Latitude\u001b[0m\u001b[0;34m\u001b[0m\u001b[0;34m\u001b[0m\u001b[0m\n\u001b[0;32m----> 2\u001b[0;31m \u001b[0mlat_data\u001b[0m \u001b[0;34m=\u001b[0m \u001b[0;34m[\u001b[0m\u001b[0mdata\u001b[0m\u001b[0;34m.\u001b[0m\u001b[0mget\u001b[0m\u001b[0;34m(\u001b[0m\u001b[0;34m\"coord\"\u001b[0m\u001b[0;34m)\u001b[0m\u001b[0;34m.\u001b[0m\u001b[0mget\u001b[0m\u001b[0;34m(\u001b[0m\u001b[0;34m\"lat\"\u001b[0m\u001b[0;34m)\u001b[0m \u001b[0;32mfor\u001b[0m \u001b[0mdata\u001b[0m \u001b[0;32min\u001b[0m \u001b[0mweather_json\u001b[0m\u001b[0;34m]\u001b[0m\u001b[0;34m\u001b[0m\u001b[0m\n\u001b[0m\u001b[1;32m      3\u001b[0m \u001b[0;34m\u001b[0m\u001b[0m\n\u001b[1;32m      4\u001b[0m \u001b[0;31m# Temperature F\u001b[0m\u001b[0;34m\u001b[0m\u001b[0;34m\u001b[0m\u001b[0m\n\u001b[1;32m      5\u001b[0m \u001b[0mtemp_data\u001b[0m \u001b[0;34m=\u001b[0m \u001b[0;34m[\u001b[0m\u001b[0mdata\u001b[0m\u001b[0;34m.\u001b[0m\u001b[0mget\u001b[0m\u001b[0;34m(\u001b[0m\u001b[0;34m\"main\"\u001b[0m\u001b[0;34m)\u001b[0m\u001b[0;34m.\u001b[0m\u001b[0mget\u001b[0m\u001b[0;34m(\u001b[0m\u001b[0;34m\"temp\"\u001b[0m\u001b[0;34m)\u001b[0m \u001b[0;32mfor\u001b[0m \u001b[0mdata\u001b[0m \u001b[0;32min\u001b[0m \u001b[0mweather_json\u001b[0m\u001b[0;34m]\u001b[0m\u001b[0;34m\u001b[0m\u001b[0m\n",
      "\u001b[0;32m<ipython-input-195-78dc82a824cb>\u001b[0m in \u001b[0;36m<listcomp>\u001b[0;34m(.0)\u001b[0m\n\u001b[1;32m      1\u001b[0m \u001b[0;31m# Latitude\u001b[0m\u001b[0;34m\u001b[0m\u001b[0;34m\u001b[0m\u001b[0m\n\u001b[0;32m----> 2\u001b[0;31m \u001b[0mlat_data\u001b[0m \u001b[0;34m=\u001b[0m \u001b[0;34m[\u001b[0m\u001b[0mdata\u001b[0m\u001b[0;34m.\u001b[0m\u001b[0mget\u001b[0m\u001b[0;34m(\u001b[0m\u001b[0;34m\"coord\"\u001b[0m\u001b[0;34m)\u001b[0m\u001b[0;34m.\u001b[0m\u001b[0mget\u001b[0m\u001b[0;34m(\u001b[0m\u001b[0;34m\"lat\"\u001b[0m\u001b[0;34m)\u001b[0m \u001b[0;32mfor\u001b[0m \u001b[0mdata\u001b[0m \u001b[0;32min\u001b[0m \u001b[0mweather_json\u001b[0m\u001b[0;34m]\u001b[0m\u001b[0;34m\u001b[0m\u001b[0m\n\u001b[0m\u001b[1;32m      3\u001b[0m \u001b[0;34m\u001b[0m\u001b[0m\n\u001b[1;32m      4\u001b[0m \u001b[0;31m# Temperature F\u001b[0m\u001b[0;34m\u001b[0m\u001b[0;34m\u001b[0m\u001b[0m\n\u001b[1;32m      5\u001b[0m \u001b[0mtemp_data\u001b[0m \u001b[0;34m=\u001b[0m \u001b[0;34m[\u001b[0m\u001b[0mdata\u001b[0m\u001b[0;34m.\u001b[0m\u001b[0mget\u001b[0m\u001b[0;34m(\u001b[0m\u001b[0;34m\"main\"\u001b[0m\u001b[0;34m)\u001b[0m\u001b[0;34m.\u001b[0m\u001b[0mget\u001b[0m\u001b[0;34m(\u001b[0m\u001b[0;34m\"temp\"\u001b[0m\u001b[0;34m)\u001b[0m \u001b[0;32mfor\u001b[0m \u001b[0mdata\u001b[0m \u001b[0;32min\u001b[0m \u001b[0mweather_json\u001b[0m\u001b[0;34m]\u001b[0m\u001b[0;34m\u001b[0m\u001b[0m\n",
      "\u001b[0;31mAttributeError\u001b[0m: 'NoneType' object has no attribute 'get'"
     ]
    }
   ],
   "source": [
    "# Latitude\n",
    "lat_data = [data.get(\"coord\").get(\"lat\") for data in weather_json]\n",
    "\n",
    "# Temperature F\n",
    "temp_data = [data.get(\"main\").get(\"temp\") for data in weather_json]\n",
    "\n",
    "# Humidity (%)\n",
    "humidity_data = [data.get(\"main\").get(\"humidity\") for data in weather_json]\n",
    "\n",
    "# Cloudiness (%)\n",
    "cloud_data = [data.get(\"clouds\").get(\"all\") for data in weather_json]\n",
    "\n",
    "# Wind Speed (mph)\n",
    "wind_data = [data.get(\"wind\").get(\"speed\") for data in weather_json]\n",
    "\n",
    "# city name\n",
    "city = [data.get(\"name\") for data in weather_json]\n"
   ]
  },
  {
   "cell_type": "code",
   "execution_count": 196,
   "metadata": {},
   "outputs": [
    {
     "data": {
      "text/html": [
       "<div>\n",
       "<style scoped>\n",
       "    .dataframe tbody tr th:only-of-type {\n",
       "        vertical-align: middle;\n",
       "    }\n",
       "\n",
       "    .dataframe tbody tr th {\n",
       "        vertical-align: top;\n",
       "    }\n",
       "\n",
       "    .dataframe thead th {\n",
       "        text-align: right;\n",
       "    }\n",
       "</style>\n",
       "<table border=\"1\" class=\"dataframe\">\n",
       "  <thead>\n",
       "    <tr style=\"text-align: right;\">\n",
       "      <th></th>\n",
       "      <th>City</th>\n",
       "      <th>Cloudiness (%)</th>\n",
       "      <th>Humidity (%)</th>\n",
       "      <th>Latitude</th>\n",
       "      <th>Temperature (Fahrenheit)</th>\n",
       "      <th>Wind Speed (mph)</th>\n",
       "    </tr>\n",
       "  </thead>\n",
       "  <tbody>\n",
       "    <tr>\n",
       "      <th>0</th>\n",
       "      <td>Pyatigorsk</td>\n",
       "      <td>90</td>\n",
       "      <td>100</td>\n",
       "      <td>44.04</td>\n",
       "      <td>30.20</td>\n",
       "      <td>6.71</td>\n",
       "    </tr>\n",
       "    <tr>\n",
       "      <th>1</th>\n",
       "      <td>Bunawan</td>\n",
       "      <td>40</td>\n",
       "      <td>74</td>\n",
       "      <td>7.24</td>\n",
       "      <td>80.60</td>\n",
       "      <td>4.70</td>\n",
       "    </tr>\n",
       "    <tr>\n",
       "      <th>2</th>\n",
       "      <td>Yanji</td>\n",
       "      <td>0</td>\n",
       "      <td>57</td>\n",
       "      <td>42.89</td>\n",
       "      <td>12.77</td>\n",
       "      <td>8.66</td>\n",
       "    </tr>\n",
       "    <tr>\n",
       "      <th>3</th>\n",
       "      <td>Ligatne</td>\n",
       "      <td>76</td>\n",
       "      <td>80</td>\n",
       "      <td>57.23</td>\n",
       "      <td>12.32</td>\n",
       "      <td>8.99</td>\n",
       "    </tr>\n",
       "    <tr>\n",
       "      <th>4</th>\n",
       "      <td>Tiko</td>\n",
       "      <td>40</td>\n",
       "      <td>100</td>\n",
       "      <td>4.08</td>\n",
       "      <td>75.20</td>\n",
       "      <td>3.40</td>\n",
       "    </tr>\n",
       "  </tbody>\n",
       "</table>\n",
       "</div>"
      ],
      "text/plain": [
       "         City  Cloudiness (%)  Humidity (%)  Latitude  \\\n",
       "0  Pyatigorsk              90           100     44.04   \n",
       "1     Bunawan              40            74      7.24   \n",
       "2       Yanji               0            57     42.89   \n",
       "3     Ligatne              76            80     57.23   \n",
       "4        Tiko              40           100      4.08   \n",
       "\n",
       "   Temperature (Fahrenheit)  Wind Speed (mph)  \n",
       "0                     30.20              6.71  \n",
       "1                     80.60              4.70  \n",
       "2                     12.77              8.66  \n",
       "3                     12.32              8.99  \n",
       "4                     75.20              3.40  "
      ]
     },
     "execution_count": 196,
     "metadata": {},
     "output_type": "execute_result"
    }
   ],
   "source": [
    "weather_dict = {\"City\":city, \"Latitude\": lat_data, \"Temperature (Fahrenheit)\": temp_data, \n",
    "                \"Humidity (%)\": humidity_data, \"Cloudiness (%)\": cloud_data, \n",
    "                \"Wind Speed (mph)\": wind_data\n",
    "               }\n",
    "weather_df = pd.DataFrame(weather_dict)\n",
    "\n",
    "weather_df.to_csv(\"weather_final.csv\")\n",
    "\n",
    "weather_df.head()"
   ]
  },
  {
   "cell_type": "code",
   "execution_count": 197,
   "metadata": {},
   "outputs": [
    {
     "data": {
      "text/html": [
       "<div>\n",
       "<style scoped>\n",
       "    .dataframe tbody tr th:only-of-type {\n",
       "        vertical-align: middle;\n",
       "    }\n",
       "\n",
       "    .dataframe tbody tr th {\n",
       "        vertical-align: top;\n",
       "    }\n",
       "\n",
       "    .dataframe thead th {\n",
       "        text-align: right;\n",
       "    }\n",
       "</style>\n",
       "<table border=\"1\" class=\"dataframe\">\n",
       "  <thead>\n",
       "    <tr style=\"text-align: right;\">\n",
       "      <th></th>\n",
       "      <th>Cloudiness (%)</th>\n",
       "      <th>Humidity (%)</th>\n",
       "      <th>Latitude</th>\n",
       "      <th>Temperature (Fahrenheit)</th>\n",
       "      <th>Wind Speed (mph)</th>\n",
       "    </tr>\n",
       "    <tr>\n",
       "      <th>City</th>\n",
       "      <th></th>\n",
       "      <th></th>\n",
       "      <th></th>\n",
       "      <th></th>\n",
       "      <th></th>\n",
       "    </tr>\n",
       "  </thead>\n",
       "  <tbody>\n",
       "    <tr>\n",
       "      <th>Pyatigorsk</th>\n",
       "      <td>90</td>\n",
       "      <td>100</td>\n",
       "      <td>44.04</td>\n",
       "      <td>30.20</td>\n",
       "      <td>6.71</td>\n",
       "    </tr>\n",
       "    <tr>\n",
       "      <th>Bunawan</th>\n",
       "      <td>40</td>\n",
       "      <td>74</td>\n",
       "      <td>7.24</td>\n",
       "      <td>80.60</td>\n",
       "      <td>4.70</td>\n",
       "    </tr>\n",
       "    <tr>\n",
       "      <th>Yanji</th>\n",
       "      <td>0</td>\n",
       "      <td>57</td>\n",
       "      <td>42.89</td>\n",
       "      <td>12.77</td>\n",
       "      <td>8.66</td>\n",
       "    </tr>\n",
       "    <tr>\n",
       "      <th>Ligatne</th>\n",
       "      <td>76</td>\n",
       "      <td>80</td>\n",
       "      <td>57.23</td>\n",
       "      <td>12.32</td>\n",
       "      <td>8.99</td>\n",
       "    </tr>\n",
       "    <tr>\n",
       "      <th>Tiko</th>\n",
       "      <td>40</td>\n",
       "      <td>100</td>\n",
       "      <td>4.08</td>\n",
       "      <td>75.20</td>\n",
       "      <td>3.40</td>\n",
       "    </tr>\n",
       "    <tr>\n",
       "      <th>Clara</th>\n",
       "      <td>92</td>\n",
       "      <td>88</td>\n",
       "      <td>53.34</td>\n",
       "      <td>32.34</td>\n",
       "      <td>30.91</td>\n",
       "    </tr>\n",
       "    <tr>\n",
       "      <th>Chigasaki</th>\n",
       "      <td>1</td>\n",
       "      <td>29</td>\n",
       "      <td>35.33</td>\n",
       "      <td>49.24</td>\n",
       "      <td>6.93</td>\n",
       "    </tr>\n",
       "    <tr>\n",
       "      <th>Assen</th>\n",
       "      <td>20</td>\n",
       "      <td>62</td>\n",
       "      <td>53.00</td>\n",
       "      <td>21.20</td>\n",
       "      <td>21.92</td>\n",
       "    </tr>\n",
       "    <tr>\n",
       "      <th>Sitamau</th>\n",
       "      <td>0</td>\n",
       "      <td>76</td>\n",
       "      <td>24.01</td>\n",
       "      <td>61.95</td>\n",
       "      <td>3.40</td>\n",
       "    </tr>\n",
       "    <tr>\n",
       "      <th>Velur</th>\n",
       "      <td>20</td>\n",
       "      <td>83</td>\n",
       "      <td>10.64</td>\n",
       "      <td>78.03</td>\n",
       "      <td>5.82</td>\n",
       "    </tr>\n",
       "  </tbody>\n",
       "</table>\n",
       "</div>"
      ],
      "text/plain": [
       "            Cloudiness (%)  Humidity (%)  Latitude  Temperature (Fahrenheit)  \\\n",
       "City                                                                           \n",
       "Pyatigorsk              90           100     44.04                     30.20   \n",
       "Bunawan                 40            74      7.24                     80.60   \n",
       "Yanji                    0            57     42.89                     12.77   \n",
       "Ligatne                 76            80     57.23                     12.32   \n",
       "Tiko                    40           100      4.08                     75.20   \n",
       "Clara                   92            88     53.34                     32.34   \n",
       "Chigasaki                1            29     35.33                     49.24   \n",
       "Assen                   20            62     53.00                     21.20   \n",
       "Sitamau                  0            76     24.01                     61.95   \n",
       "Velur                   20            83     10.64                     78.03   \n",
       "\n",
       "            Wind Speed (mph)  \n",
       "City                          \n",
       "Pyatigorsk              6.71  \n",
       "Bunawan                 4.70  \n",
       "Yanji                   8.66  \n",
       "Ligatne                 8.99  \n",
       "Tiko                    3.40  \n",
       "Clara                  30.91  \n",
       "Chigasaki               6.93  \n",
       "Assen                  21.92  \n",
       "Sitamau                 3.40  \n",
       "Velur                   5.82  "
      ]
     },
     "execution_count": 197,
     "metadata": {},
     "output_type": "execute_result"
    }
   ],
   "source": [
    "weather_df.set_index(\"City\", inplace=True)\n",
    "weather_df"
   ]
  },
  {
   "cell_type": "code",
   "execution_count": 198,
   "metadata": {},
   "outputs": [
    {
     "data": {
      "image/png": "[encoded data removed]",
      "text/plain": [
       "<matplotlib.figure.Figure at 0x121c3b828>"
      ]
     },
     "metadata": {},
     "output_type": "display_data"
    }
   ],
   "source": [
    "temp_plot = weather_df.plot(kind=\"scatter\",\n",
    "                x=\"Latitude\", \n",
    "                y=\"Temperature (Fahrenheit)\",\n",
    "                marker=\"o\",\n",
    "                title=\"Temperature in World Cities\",\n",
    "                grid=True\n",
    "               );\n",
    "\n",
    "fig = temp_plot.get_figure()\n",
    "fig.savefig(\"TemperatureWorldCities.png\");"
   ]
  },
  {
   "cell_type": "code",
   "execution_count": 199,
   "metadata": {},
   "outputs": [
    {
     "data": {
      "image/png": "[encoded data removed]",
      "text/plain": [
       "<matplotlib.figure.Figure at 0x1219dc438>"
      ]
     },
     "metadata": {},
     "output_type": "display_data"
    }
   ],
   "source": [
    "humidity_plot = weather_df.plot(kind=\"scatter\",\n",
    "                x=\"Latitude\", \n",
    "                y=\"Humidity (%)\",\n",
    "                marker=\"o\",\n",
    "                title=\"Humidity in World Cities\",\n",
    "                grid=True\n",
    "               );\n",
    "\n",
    "fig = humidity_plot.get_figure()\n",
    "fig.savefig(\"HumidityWorldCities.png\");"
   ]
  },
  {
   "cell_type": "code",
   "execution_count": 200,
   "metadata": {},
   "outputs": [
    {
     "data": {
      "image/png": "[encoded data removed]",
      "text/plain": [
       "<matplotlib.figure.Figure at 0x11b0e5ac8>"
      ]
     },
     "metadata": {},
     "output_type": "display_data"
    }
   ],
   "source": [
    "cloud_plot = weather_df.plot(kind=\"scatter\",\n",
    "                x=\"Latitude\", \n",
    "                y=\"Cloudiness (%)\",\n",
    "                marker=\"o\",\n",
    "                title=\"Cloudiness in World Cities\",\n",
    "                grid=True\n",
    "               );\n",
    "\n",
    "fig = cloud_plot.get_figure()\n",
    "fig.savefig(\"CloudinessWorldCities.png\");"
   ]
  },
  {
   "cell_type": "code",
   "execution_count": 201,
   "metadata": {},
   "outputs": [
    {
     "data": {
      "image/png": "[encoded data removed]",
      "text/plain": [
       "<matplotlib.figure.Figure at 0x11487feb8>"
      ]
     },
     "metadata": {},
     "output_type": "display_data"
    }
   ],
   "source": [
    "wind_plot = weather_df.plot(kind=\"scatter\",\n",
    "                x=\"Latitude\", \n",
    "                y=\"Wind Speed (mph)\",\n",
    "                marker=\"o\",\n",
    "                title=\"Wind Speed in World Cities\",\n",
    "                grid=True\n",
    "               );\n",
    "\n",
    "fig = wind_plot.get_figure()\n",
    "fig.savefig(\"WindWorldCities.png\");"
   ]
  },
  {
   "cell_type": "code",
   "execution_count": null,
   "metadata": {
    "collapsed": true
   },
   "outputs": [],
   "source": []
  },
  {
   "cell_type": "code",
   "execution_count": null,
   "metadata": {
    "collapsed": true
   },
   "outputs": [],
   "source": []
  },
  {
   "cell_type": "code",
   "execution_count": null,
   "metadata": {
    "collapsed": true
   },
   "outputs": [],
   "source": []
  },
  {
   "cell_type": "code",
   "execution_count": null,
   "metadata": {
    "collapsed": true
   },
   "outputs": [],
   "source": []
  }
 ],
 "metadata": {
  "kernelspec": {
   "display_name": "Python [PythonData]",
   "language": "python",
   "name": "pythondata"
  },
  "language_info": {
   "codemirror_mode": {
    "name": "ipython",
    "version": 3
   },
   "file_extension": ".py",
   "mimetype": "text/x-python",
   "name": "python",
   "nbconvert_exporter": "python",
   "pygments_lexer": "ipython3",
   "version": "3.6.4"
  }
 },
 "nbformat": 4,
 "nbformat_minor": 2
}
