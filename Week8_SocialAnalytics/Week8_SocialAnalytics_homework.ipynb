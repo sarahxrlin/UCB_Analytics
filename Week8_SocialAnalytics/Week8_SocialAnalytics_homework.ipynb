{
 "cells": [
  {
   "cell_type": "code",
   "execution_count": 1,
   "metadata": {
    "collapsed": true
   },
   "outputs": [],
   "source": [
    "# Dependencies\n",
    "import tweepy\n",
    "import numpy as np\n",
    "\n",
    "# Import and Initialize Sentiment Analyzer\n",
    "from vaderSentiment.vaderSentiment import SentimentIntensityAnalyzer\n",
    "analyzer = SentimentIntensityAnalyzer()\n",
    "\n",
    "# Twitter API Keys\n",
    "from config import (consumer_key, \n",
    "                    consumer_secret, \n",
    "                    access_token, \n",
    "                    access_token_secret)\n",
    "\n",
    "# Setup Tweepy API Authentication\n",
    "auth = tweepy.OAuthHandler(consumer_key, consumer_secret)\n",
    "auth.set_access_token(access_token, access_token_secret)\n",
    "api = tweepy.API(auth, parser=tweepy.parsers.JSONParser())"
   ]
  },
  {
   "cell_type": "code",
   "execution_count": 5,
   "metadata": {},
   "outputs": [
    {
     "name": "stdout",
     "output_type": "stream",
     "text": [
      "[{'User': '@BBC', 'Compound': 0.30182711864406786, 'Positive': 0.15859322033898304, 'Neutral': 0.014627118644067795, 'Negative': 0.8267796610169489, 'Tweet Count': 59}]\n",
      "\n",
      "[{'User': '@BBC', 'Compound': 0.30182711864406786, 'Positive': 0.15859322033898304, 'Neutral': 0.014627118644067795, 'Negative': 0.8267796610169489, 'Tweet Count': 59}, {'User': '@CBS', 'Compound': 0.101702, 'Positive': 0.06577999999999999, 'Neutral': 0.02859, 'Negative': 0.9056399999999999, 'Tweet Count': 100}]\n",
      "\n",
      "[{'User': '@BBC', 'Compound': 0.30182711864406786, 'Positive': 0.15859322033898304, 'Neutral': 0.014627118644067795, 'Negative': 0.8267796610169489, 'Tweet Count': 59}, {'User': '@CBS', 'Compound': 0.101702, 'Positive': 0.06577999999999999, 'Neutral': 0.02859, 'Negative': 0.9056399999999999, 'Tweet Count': 100}, {'User': '@FoxNews', 'Compound': -0.01306000000000001, 'Positive': 0.10594999999999999, 'Neutral': 0.10989, 'Negative': 0.7841499999999999, 'Tweet Count': 100}]\n",
      "\n",
      "[{'User': '@BBC', 'Compound': 0.30182711864406786, 'Positive': 0.15859322033898304, 'Neutral': 0.014627118644067795, 'Negative': 0.8267796610169489, 'Tweet Count': 59}, {'User': '@CBS', 'Compound': 0.101702, 'Positive': 0.06577999999999999, 'Neutral': 0.02859, 'Negative': 0.9056399999999999, 'Tweet Count': 100}, {'User': '@FoxNews', 'Compound': -0.01306000000000001, 'Positive': 0.10594999999999999, 'Neutral': 0.10989, 'Negative': 0.7841499999999999, 'Tweet Count': 100}, {'User': '@nytimes', 'Compound': -0.093124, 'Positive': 0.04859000000000001, 'Neutral': 0.08455000000000001, 'Negative': 0.86687, 'Tweet Count': 100}]\n",
      "\n"
     ]
    }
   ],
   "source": [
    "# Target Search Term\n",
    "# BBC, CBS, CNN, Fox, and New York times\n",
    "target_terms = (\"@BBC\", \"@CBS\", \"@FoxNews\", \"@nytimes\")\n",
    "\n",
    "# Array to hold sentiment\n",
    "sentiment_array = []\n",
    "\n",
    "# Loop through all target users\n",
    "for target in target_terms:\n",
    "\n",
    "    # Variable for holding the oldest tweet\n",
    "    oldest_tweet = None\n",
    "\n",
    "    # Variables for holding sentiments\n",
    "    compound_list = []\n",
    "    positive_list = []\n",
    "    negative_list = []\n",
    "    neutral_list = []\n",
    "\n",
    "    # make multiple requests\n",
    "    for x in range(5):\n",
    "\n",
    "        # Run search around each tweet\n",
    "        public_tweets = api.search(\n",
    "            target, count=20, result_type=\"recent\", max_id=oldest_tweet)\n",
    "\n",
    "        # Loop through all tweets\n",
    "        for tweet in public_tweets[\"statuses\"]:\n",
    "\n",
    "                # Run Vader Analysis on each tweet\n",
    "                results = analyzer.polarity_scores(tweet[\"text\"])\n",
    "                compound = results[\"compound\"]\n",
    "                pos = results[\"pos\"]\n",
    "                neu = results[\"neu\"]\n",
    "                neg = results[\"neg\"]\n",
    "\n",
    "                # Add each value to the appropriate array\n",
    "                compound_list.append(compound)\n",
    "                positive_list.append(pos)\n",
    "                negative_list.append(neg)\n",
    "                neutral_list.append(neu)\n",
    "                \n",
    "        # Set the new oldest_tweet value\n",
    "        oldest_tweet = int(tweet[\"id_str\"]) - 1\n",
    "\n",
    "    # Store the Average Sentiments\n",
    "    sentiment_array.append({\n",
    "        \"User\": target,\n",
    "        \"Compound\": np.mean(compound_list),\n",
    "        \"Positive\": np.mean(positive_list),\n",
    "        \"Neutral\": np.mean(negative_list),\n",
    "        \"Negative\": np.mean(neutral_list),\n",
    "        \"Tweet Count\": len(compound_list)\n",
    "    })\n",
    "\n",
    "    # Print the Sentiments\n",
    "    print(sentiment_array)\n",
    "    print()\n",
    "\n"
   ]
  },
  {
   "cell_type": "code",
   "execution_count": null,
   "metadata": {
    "collapsed": true
   },
   "outputs": [],
   "source": []
  }
 ],
 "metadata": {
  "kernelspec": {
   "display_name": "Python [PythonData]",
   "language": "python",
   "name": "pythondata"
  },
  "language_info": {
   "codemirror_mode": {
    "name": "ipython",
    "version": 3
   },
   "file_extension": ".py",
   "mimetype": "text/x-python",
   "name": "python",
   "nbconvert_exporter": "python",
   "pygments_lexer": "ipython3",
   "version": "3.6.4"
  }
 },
 "nbformat": 4,
 "nbformat_minor": 2
}
